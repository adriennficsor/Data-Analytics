{
 "cells": [
  {
   "cell_type": "markdown",
   "metadata": {},
   "source": [
    "# Coursera - Data analysis\n",
    "## Introduction\n",
    "Coursera is an online education platform that offers numerous courses in several areas. Having a large number of educators and users it is essential to analyze and understand the dynamics of ratings, student numbers and course types.\n",
    "This analysis focuses on exploring various aspects of the course data to gain insights into student preferences, course distributions and ratings.\n",
    "## Objective\n",
    "The primary goal of this analysis is to find ways to attract more students for the Coursera platform by exploring and visualizing the relationships between different attributes of Coursera courses.\n",
    "## Importing libraries and dataset"
   ]
  },
  {
   "cell_type": "code",
   "execution_count": 2,
   "metadata": {},
   "outputs": [],
   "source": [
    "import pandas as pd\n",
    "import matplotlib.pyplot as plt\n",
    "import seaborn as sns\n",
    "import plotly.express as px\n",
    "\n",
    "coursera_data = pd.read_csv(\"/Users/adriennficsor/Desktop/Turing/M4S3/coursea_data.csv\", index_col=0)"
   ]
  },
  {
   "cell_type": "code",
   "execution_count": 3,
   "metadata": {},
   "outputs": [
    {
     "data": {
      "text/html": [
       "<div>\n",
       "<style scoped>\n",
       "    .dataframe tbody tr th:only-of-type {\n",
       "        vertical-align: middle;\n",
       "    }\n",
       "\n",
       "    .dataframe tbody tr th {\n",
       "        vertical-align: top;\n",
       "    }\n",
       "\n",
       "    .dataframe thead th {\n",
       "        text-align: right;\n",
       "    }\n",
       "</style>\n",
       "<table border=\"1\" class=\"dataframe\">\n",
       "  <thead>\n",
       "    <tr style=\"text-align: right;\">\n",
       "      <th></th>\n",
       "      <th>course_title</th>\n",
       "      <th>course_organization</th>\n",
       "      <th>course_Certificate_type</th>\n",
       "      <th>course_rating</th>\n",
       "      <th>course_difficulty</th>\n",
       "      <th>course_students_enrolled</th>\n",
       "    </tr>\n",
       "  </thead>\n",
       "  <tbody>\n",
       "    <tr>\n",
       "      <th>134</th>\n",
       "      <td>(ISC)² Systems Security Certified Practitioner...</td>\n",
       "      <td>(ISC)²</td>\n",
       "      <td>SPECIALIZATION</td>\n",
       "      <td>4.7</td>\n",
       "      <td>Beginner</td>\n",
       "      <td>5.3k</td>\n",
       "    </tr>\n",
       "    <tr>\n",
       "      <th>743</th>\n",
       "      <td>A Crash Course in Causality:  Inferring Causal...</td>\n",
       "      <td>University of Pennsylvania</td>\n",
       "      <td>COURSE</td>\n",
       "      <td>4.7</td>\n",
       "      <td>Intermediate</td>\n",
       "      <td>17k</td>\n",
       "    </tr>\n",
       "    <tr>\n",
       "      <th>874</th>\n",
       "      <td>A Crash Course in Data Science</td>\n",
       "      <td>Johns Hopkins University</td>\n",
       "      <td>COURSE</td>\n",
       "      <td>4.5</td>\n",
       "      <td>Mixed</td>\n",
       "      <td>130k</td>\n",
       "    </tr>\n",
       "    <tr>\n",
       "      <th>413</th>\n",
       "      <td>A Law Student's Toolkit</td>\n",
       "      <td>Yale University</td>\n",
       "      <td>COURSE</td>\n",
       "      <td>4.7</td>\n",
       "      <td>Mixed</td>\n",
       "      <td>91k</td>\n",
       "    </tr>\n",
       "    <tr>\n",
       "      <th>635</th>\n",
       "      <td>A Life of Happiness and Fulfillment</td>\n",
       "      <td>Indian School of Business</td>\n",
       "      <td>COURSE</td>\n",
       "      <td>4.8</td>\n",
       "      <td>Mixed</td>\n",
       "      <td>320k</td>\n",
       "    </tr>\n",
       "    <tr>\n",
       "      <th>661</th>\n",
       "      <td>ADHD: Everyday Strategies for Elementary Students</td>\n",
       "      <td>University at Buffalo</td>\n",
       "      <td>COURSE</td>\n",
       "      <td>4.7</td>\n",
       "      <td>Beginner</td>\n",
       "      <td>39k</td>\n",
       "    </tr>\n",
       "    <tr>\n",
       "      <th>54</th>\n",
       "      <td>AI For Everyone</td>\n",
       "      <td>deeplearning.ai</td>\n",
       "      <td>COURSE</td>\n",
       "      <td>4.8</td>\n",
       "      <td>Beginner</td>\n",
       "      <td>350k</td>\n",
       "    </tr>\n",
       "    <tr>\n",
       "      <th>488</th>\n",
       "      <td>AI For Medical Treatment</td>\n",
       "      <td>deeplearning.ai</td>\n",
       "      <td>COURSE</td>\n",
       "      <td>4.8</td>\n",
       "      <td>Intermediate</td>\n",
       "      <td>2.4k</td>\n",
       "    </tr>\n",
       "    <tr>\n",
       "      <th>58</th>\n",
       "      <td>AI Foundations for Everyone</td>\n",
       "      <td>IBM</td>\n",
       "      <td>SPECIALIZATION</td>\n",
       "      <td>4.7</td>\n",
       "      <td>Beginner</td>\n",
       "      <td>61k</td>\n",
       "    </tr>\n",
       "    <tr>\n",
       "      <th>129</th>\n",
       "      <td>AI for Medical Diagnosis</td>\n",
       "      <td>deeplearning.ai</td>\n",
       "      <td>COURSE</td>\n",
       "      <td>4.7</td>\n",
       "      <td>Intermediate</td>\n",
       "      <td>12k</td>\n",
       "    </tr>\n",
       "  </tbody>\n",
       "</table>\n",
       "</div>"
      ],
      "text/plain": [
       "                                          course_title  \\\n",
       "134  (ISC)² Systems Security Certified Practitioner...   \n",
       "743  A Crash Course in Causality:  Inferring Causal...   \n",
       "874                     A Crash Course in Data Science   \n",
       "413                            A Law Student's Toolkit   \n",
       "635                A Life of Happiness and Fulfillment   \n",
       "661  ADHD: Everyday Strategies for Elementary Students   \n",
       "54                                     AI For Everyone   \n",
       "488                           AI For Medical Treatment   \n",
       "58                         AI Foundations for Everyone   \n",
       "129                           AI for Medical Diagnosis   \n",
       "\n",
       "            course_organization course_Certificate_type  course_rating  \\\n",
       "134                      (ISC)²          SPECIALIZATION            4.7   \n",
       "743  University of Pennsylvania                  COURSE            4.7   \n",
       "874    Johns Hopkins University                  COURSE            4.5   \n",
       "413             Yale University                  COURSE            4.7   \n",
       "635   Indian School of Business                  COURSE            4.8   \n",
       "661       University at Buffalo                  COURSE            4.7   \n",
       "54              deeplearning.ai                  COURSE            4.8   \n",
       "488             deeplearning.ai                  COURSE            4.8   \n",
       "58                          IBM          SPECIALIZATION            4.7   \n",
       "129             deeplearning.ai                  COURSE            4.7   \n",
       "\n",
       "    course_difficulty course_students_enrolled  \n",
       "134          Beginner                     5.3k  \n",
       "743      Intermediate                      17k  \n",
       "874             Mixed                     130k  \n",
       "413             Mixed                      91k  \n",
       "635             Mixed                     320k  \n",
       "661          Beginner                      39k  \n",
       "54           Beginner                     350k  \n",
       "488      Intermediate                     2.4k  \n",
       "58           Beginner                      61k  \n",
       "129      Intermediate                      12k  "
      ]
     },
     "execution_count": 3,
     "metadata": {},
     "output_type": "execute_result"
    }
   ],
   "source": [
    "coursera_data.head(10)"
   ]
  },
  {
   "cell_type": "markdown",
   "metadata": {},
   "source": [
    "## Data cleaning\n",
    "- Handling missing values\n",
    "- Handling duplicates\n",
    "- Checking for outliers\n",
    "\n",
    "### General overview of the dataset"
   ]
  },
  {
   "cell_type": "code",
   "execution_count": 4,
   "metadata": {},
   "outputs": [
    {
     "name": "stdout",
     "output_type": "stream",
     "text": [
      "<class 'pandas.core.frame.DataFrame'>\n",
      "Index: 891 entries, 134 to 163\n",
      "Data columns (total 6 columns):\n",
      " #   Column                    Non-Null Count  Dtype  \n",
      "---  ------                    --------------  -----  \n",
      " 0   course_title              891 non-null    object \n",
      " 1   course_organization       891 non-null    object \n",
      " 2   course_Certificate_type   891 non-null    object \n",
      " 3   course_rating             891 non-null    float64\n",
      " 4   course_difficulty         891 non-null    object \n",
      " 5   course_students_enrolled  891 non-null    object \n",
      "dtypes: float64(1), object(5)\n",
      "memory usage: 48.7+ KB\n"
     ]
    }
   ],
   "source": [
    "coursera_data.info()"
   ]
  },
  {
   "cell_type": "markdown",
   "metadata": {},
   "source": [
    "The dataset contains 891 data entries and 7 columns. There are no null values in the dataset."
   ]
  },
  {
   "cell_type": "code",
   "execution_count": 5,
   "metadata": {},
   "outputs": [
    {
     "data": {
      "text/plain": [
       "0"
      ]
     },
     "execution_count": 5,
     "metadata": {},
     "output_type": "execute_result"
    }
   ],
   "source": [
    "# Checking the duplicates\n",
    "coursera_data.duplicated().sum()"
   ]
  },
  {
   "cell_type": "markdown",
   "metadata": {},
   "source": [
    "There are no duplicates in the dataset."
   ]
  },
  {
   "cell_type": "code",
   "execution_count": 6,
   "metadata": {},
   "outputs": [
    {
     "data": {
      "text/html": [
       "<div>\n",
       "<style scoped>\n",
       "    .dataframe tbody tr th:only-of-type {\n",
       "        vertical-align: middle;\n",
       "    }\n",
       "\n",
       "    .dataframe tbody tr th {\n",
       "        vertical-align: top;\n",
       "    }\n",
       "\n",
       "    .dataframe thead th {\n",
       "        text-align: right;\n",
       "    }\n",
       "</style>\n",
       "<table border=\"1\" class=\"dataframe\">\n",
       "  <thead>\n",
       "    <tr style=\"text-align: right;\">\n",
       "      <th></th>\n",
       "      <th>count</th>\n",
       "      <th>unique</th>\n",
       "      <th>top</th>\n",
       "      <th>freq</th>\n",
       "    </tr>\n",
       "  </thead>\n",
       "  <tbody>\n",
       "    <tr>\n",
       "      <th>course_title</th>\n",
       "      <td>891</td>\n",
       "      <td>888</td>\n",
       "      <td>Developing Your Musicianship</td>\n",
       "      <td>2</td>\n",
       "    </tr>\n",
       "    <tr>\n",
       "      <th>course_organization</th>\n",
       "      <td>891</td>\n",
       "      <td>154</td>\n",
       "      <td>University of Pennsylvania</td>\n",
       "      <td>59</td>\n",
       "    </tr>\n",
       "    <tr>\n",
       "      <th>course_Certificate_type</th>\n",
       "      <td>891</td>\n",
       "      <td>3</td>\n",
       "      <td>COURSE</td>\n",
       "      <td>582</td>\n",
       "    </tr>\n",
       "    <tr>\n",
       "      <th>course_difficulty</th>\n",
       "      <td>891</td>\n",
       "      <td>4</td>\n",
       "      <td>Beginner</td>\n",
       "      <td>487</td>\n",
       "    </tr>\n",
       "    <tr>\n",
       "      <th>course_students_enrolled</th>\n",
       "      <td>891</td>\n",
       "      <td>205</td>\n",
       "      <td>120k</td>\n",
       "      <td>22</td>\n",
       "    </tr>\n",
       "  </tbody>\n",
       "</table>\n",
       "</div>"
      ],
      "text/plain": [
       "                         count unique                           top freq\n",
       "course_title               891    888  Developing Your Musicianship    2\n",
       "course_organization        891    154    University of Pennsylvania   59\n",
       "course_Certificate_type    891      3                        COURSE  582\n",
       "course_difficulty          891      4                      Beginner  487\n",
       "course_students_enrolled   891    205                          120k   22"
      ]
     },
     "execution_count": 6,
     "metadata": {},
     "output_type": "execute_result"
    }
   ],
   "source": [
    "# More detailed info about the object types:\n",
    "info_object = coursera_data.describe(include=[\"object\"]).transpose()\n",
    "info_object"
   ]
  },
  {
   "cell_type": "markdown",
   "metadata": {},
   "source": [
    "Some initial insights:\n",
    "- There are a few not unique titles\n",
    "- 154 organizations provide courses on the platform\n",
    "- University of Pennsylvania has the most courses (59)\n",
    "- There are only 3 certificate types, Course is the most common (more than half of the courses)\n",
    "- The courses are available in 4 different diffculty levels, Beginner is the most common\n",
    "- The most common student number is around 120k"
   ]
  },
  {
   "cell_type": "code",
   "execution_count": 7,
   "metadata": {},
   "outputs": [
    {
     "data": {
      "text/html": [
       "<div>\n",
       "<style scoped>\n",
       "    .dataframe tbody tr th:only-of-type {\n",
       "        vertical-align: middle;\n",
       "    }\n",
       "\n",
       "    .dataframe tbody tr th {\n",
       "        vertical-align: top;\n",
       "    }\n",
       "\n",
       "    .dataframe thead th {\n",
       "        text-align: right;\n",
       "    }\n",
       "</style>\n",
       "<table border=\"1\" class=\"dataframe\">\n",
       "  <thead>\n",
       "    <tr style=\"text-align: right;\">\n",
       "      <th></th>\n",
       "      <th>count</th>\n",
       "      <th>mean</th>\n",
       "      <th>std</th>\n",
       "      <th>min</th>\n",
       "      <th>25%</th>\n",
       "      <th>50%</th>\n",
       "      <th>75%</th>\n",
       "      <th>max</th>\n",
       "    </tr>\n",
       "  </thead>\n",
       "  <tbody>\n",
       "    <tr>\n",
       "      <th>course_rating</th>\n",
       "      <td>891.0</td>\n",
       "      <td>4.677329</td>\n",
       "      <td>0.162225</td>\n",
       "      <td>3.3</td>\n",
       "      <td>4.6</td>\n",
       "      <td>4.7</td>\n",
       "      <td>4.8</td>\n",
       "      <td>5.0</td>\n",
       "    </tr>\n",
       "  </tbody>\n",
       "</table>\n",
       "</div>"
      ],
      "text/plain": [
       "               count      mean       std  min  25%  50%  75%  max\n",
       "course_rating  891.0  4.677329  0.162225  3.3  4.6  4.7  4.8  5.0"
      ]
     },
     "execution_count": 7,
     "metadata": {},
     "output_type": "execute_result"
    }
   ],
   "source": [
    "# More detailed info about the numerical data:\n",
    "info_rating = coursera_data.describe().transpose()\n",
    "info_rating"
   ]
  },
  {
   "cell_type": "code",
   "execution_count": 35,
   "metadata": {},
   "outputs": [
    {
     "name": "stderr",
     "output_type": "stream",
     "text": [
      "/var/folders/2f/492hrw2s61984lvrqdsfrw000000gp/T/ipykernel_86137/901343972.py:1: FutureWarning:\n",
      "\n",
      "\n",
      "\n",
      "Passing `palette` without assigning `hue` is deprecated and will be removed in v0.14.0. Assign the `x` variable to `hue` and set `legend=False` for the same effect.\n",
      "\n",
      "\n"
     ]
    },
    {
     "data": {
      "text/plain": [
       "Text(0.5, 1.0, 'Course ratings')"
      ]
     },
     "execution_count": 35,
     "metadata": {},
     "output_type": "execute_result"
    },
    {
     "data": {
      "image/png": "[encoded data removed]",
      "text/plain": [
       "<Figure size 640x480 with 1 Axes>"
      ]
     },
     "metadata": {},
     "output_type": "display_data"
    }
   ],
   "source": [
    "sns.boxplot(coursera_data[\"course_rating\"], palette=\"YlOrRd\")\n",
    "plt.ylabel(\"Rating value\")\n",
    "plt.title(\"Course ratings\")"
   ]
  },
  {
   "cell_type": "markdown",
   "metadata": {},
   "source": [
    "- Ratings have an average value of 4.68, the ratings are in the range of 3.3 and 5.0, which is considered high rating.\n",
    "- Below 4.25, the ratings are outliers, they are not going to be removed, can be important for further analysis."
   ]
  },
  {
   "cell_type": "markdown",
   "metadata": {},
   "source": [
    "# EDA\n",
    "- What is the correlation between rating and enrolled students?\n",
    "- What are the highest and lowest rating courses?\n",
    "- What is the distribution of the courses per difficulties and certificate types?\n",
    "- How does the difficulty level affect the rating?\n",
    "- How does the difficulty level affect the enrollment?\n",
    "- Top organizations and courses (average rating, enrollment)\n",
    "- How does number of courses affect the enrollment per organization?\n",
    "- Does the certificate type affect the rating?"
   ]
  },
  {
   "cell_type": "markdown",
   "metadata": {},
   "source": [
    "### Course Ratings and Enrollment Numbers"
   ]
  },
  {
   "cell_type": "markdown",
   "metadata": {},
   "source": [
    "Courses with higher ratings attract more students. Number of students can also depend on how new is the course."
   ]
  },
  {
   "cell_type": "code",
   "execution_count": 74,
   "metadata": {},
   "outputs": [
    {
     "data": {
      "text/plain": [
       "Text(0.5, 1.0, 'Course rating per Enrolled Students and Difficulty')"
      ]
     },
     "execution_count": 74,
     "metadata": {},
     "output_type": "execute_result"
    },
    {
     "data": {
      "text/plain": [
       "<Figure size 1000x600 with 0 Axes>"
      ]
     },
     "metadata": {},
     "output_type": "display_data"
    },
    {
     "data": {
      "image/png": "[encoded data removed]",
      "text/plain": [
       "<Figure size 623.25x500 with 1 Axes>"
      ]
     },
     "metadata": {},
     "output_type": "display_data"
    }
   ],
   "source": [
    "plt.figure(figsize=(10,6))\n",
    "sns.set_context(\"paper\")\n",
    "sns.lmplot(x=\"course_students_enrolled\", \n",
    "           y=\"course_rating\", \n",
    "           data=coursera_data, \n",
    "           hue=\"course_difficulty\",\n",
    "           palette=\"YlOrRd\")\n",
    "plt.xlabel(\"Enrolled Students\")\n",
    "plt.ylabel(\"Course Rating\")\n",
    "plt.title(\"Course rating per Enrolled Students and Difficulty\")"
   ]
  },
  {
   "cell_type": "markdown",
   "metadata": {},
   "source": [
    "### Highest and lowest rating courses"
   ]
  },
  {
   "cell_type": "code",
   "execution_count": 9,
   "metadata": {},
   "outputs": [
    {
     "data": {
      "text/html": [
       "<div>\n",
       "<style scoped>\n",
       "    .dataframe tbody tr th:only-of-type {\n",
       "        vertical-align: middle;\n",
       "    }\n",
       "\n",
       "    .dataframe tbody tr th {\n",
       "        vertical-align: top;\n",
       "    }\n",
       "\n",
       "    .dataframe thead th {\n",
       "        text-align: right;\n",
       "    }\n",
       "</style>\n",
       "<table border=\"1\" class=\"dataframe\">\n",
       "  <thead>\n",
       "    <tr style=\"text-align: right;\">\n",
       "      <th></th>\n",
       "      <th>course_title</th>\n",
       "      <th>course_organization</th>\n",
       "      <th>course_Certificate_type</th>\n",
       "      <th>course_rating</th>\n",
       "      <th>course_difficulty</th>\n",
       "      <th>course_students_enrolled</th>\n",
       "    </tr>\n",
       "  </thead>\n",
       "  <tbody>\n",
       "    <tr>\n",
       "      <th>789</th>\n",
       "      <td>El Abogado del Futuro: Legaltech y la Transfor...</td>\n",
       "      <td>Universidad Austral</td>\n",
       "      <td>COURSE</td>\n",
       "      <td>5.0</td>\n",
       "      <td>Beginner</td>\n",
       "      <td>1.5k</td>\n",
       "    </tr>\n",
       "    <tr>\n",
       "      <th>401</th>\n",
       "      <td>Infectious Disease Modelling</td>\n",
       "      <td>Imperial College London</td>\n",
       "      <td>SPECIALIZATION</td>\n",
       "      <td>5.0</td>\n",
       "      <td>Intermediate</td>\n",
       "      <td>1.6k</td>\n",
       "    </tr>\n",
       "  </tbody>\n",
       "</table>\n",
       "</div>"
      ],
      "text/plain": [
       "                                          course_title  \\\n",
       "789  El Abogado del Futuro: Legaltech y la Transfor...   \n",
       "401                       Infectious Disease Modelling   \n",
       "\n",
       "         course_organization course_Certificate_type  course_rating  \\\n",
       "789      Universidad Austral                  COURSE            5.0   \n",
       "401  Imperial College London          SPECIALIZATION            5.0   \n",
       "\n",
       "    course_difficulty course_students_enrolled  \n",
       "789          Beginner                     1.5k  \n",
       "401      Intermediate                     1.6k  "
      ]
     },
     "execution_count": 9,
     "metadata": {},
     "output_type": "execute_result"
    }
   ],
   "source": [
    "max_rating = coursera_data[\"course_rating\"].max()\n",
    "best_courses = coursera_data.loc[coursera_data[\"course_rating\"] == max_rating]\n",
    "best_courses"
   ]
  },
  {
   "cell_type": "markdown",
   "metadata": {},
   "source": [
    "There are 2 courses with the maximum (5.0) rating, the only common feature in them is the similar (low) number of students enrolled."
   ]
  },
  {
   "cell_type": "code",
   "execution_count": 10,
   "metadata": {},
   "outputs": [
    {
     "data": {
      "text/html": [
       "<div>\n",
       "<style scoped>\n",
       "    .dataframe tbody tr th:only-of-type {\n",
       "        vertical-align: middle;\n",
       "    }\n",
       "\n",
       "    .dataframe tbody tr th {\n",
       "        vertical-align: top;\n",
       "    }\n",
       "\n",
       "    .dataframe thead th {\n",
       "        text-align: right;\n",
       "    }\n",
       "</style>\n",
       "<table border=\"1\" class=\"dataframe\">\n",
       "  <thead>\n",
       "    <tr style=\"text-align: right;\">\n",
       "      <th></th>\n",
       "      <th>course_title</th>\n",
       "      <th>course_organization</th>\n",
       "      <th>course_Certificate_type</th>\n",
       "      <th>course_rating</th>\n",
       "      <th>course_difficulty</th>\n",
       "      <th>course_students_enrolled</th>\n",
       "    </tr>\n",
       "  </thead>\n",
       "  <tbody>\n",
       "    <tr>\n",
       "      <th>767</th>\n",
       "      <td>How To Create a Website in a Weekend! (Project...</td>\n",
       "      <td>The State University of New York</td>\n",
       "      <td>COURSE</td>\n",
       "      <td>3.3</td>\n",
       "      <td>Mixed</td>\n",
       "      <td>140k</td>\n",
       "    </tr>\n",
       "  </tbody>\n",
       "</table>\n",
       "</div>"
      ],
      "text/plain": [
       "                                          course_title  \\\n",
       "767  How To Create a Website in a Weekend! (Project...   \n",
       "\n",
       "                  course_organization course_Certificate_type  course_rating  \\\n",
       "767  The State University of New York                  COURSE            3.3   \n",
       "\n",
       "    course_difficulty course_students_enrolled  \n",
       "767             Mixed                     140k  "
      ]
     },
     "execution_count": 10,
     "metadata": {},
     "output_type": "execute_result"
    }
   ],
   "source": [
    "min_rating = coursera_data[\"course_rating\"].min()\n",
    "worst_courses = coursera_data.loc[coursera_data[\"course_rating\"] == min_rating]\n",
    "worst_courses"
   ]
  },
  {
   "cell_type": "markdown",
   "metadata": {},
   "source": [
    "The lowest rating course has medium number of students, and has Mixed difficulty level, which might be a potential issue, if students' level is not aligned with the content."
   ]
  },
  {
   "cell_type": "markdown",
   "metadata": {},
   "source": [
    "### Number of courses by difficulties and certificates"
   ]
  },
  {
   "cell_type": "code",
   "execution_count": 36,
   "metadata": {},
   "outputs": [
    {
     "data": {
      "image/png": "[encoded data removed]",
      "text/plain": [
       "<Figure size 1500x600 with 3 Axes>"
      ]
     },
     "metadata": {},
     "output_type": "display_data"
    }
   ],
   "source": [
    "fig, axes = plt.subplots(nrows=1, ncols=3, figsize=(15,6), sharey=True)\n",
    "\n",
    "# Plotting the first countplot on the first subplot\n",
    "sns.countplot(x=\"course_difficulty\", \n",
    "              data=coursera_data, \n",
    "              palette=\"YlOrRd\", \n",
    "              hue=\"course_difficulty\", \n",
    "              ax=axes[0])\n",
    "axes[0].set_xlabel('Course Difficulty', fontsize=12)\n",
    "axes[0].set_ylabel('Number of Courses', fontsize=12)\n",
    "axes[0].set_title('Number of Courses by Difficulty Level', fontsize=15)\n",
    "\n",
    "# Adding the data labels:\n",
    "for i in axes[0].patches:\n",
    "    axes[0].annotate(str(int(i.get_height())), \n",
    "                    (i.get_x() + i.get_width() / 2., i.get_height()), \n",
    "                    ha='center',\n",
    "                    xytext=(0, 5),\n",
    "                    textcoords='offset points')\n",
    "\n",
    "# Plotting the second countplot on the second subplot\n",
    "sns.countplot(x=\"course_Certificate_type\", \n",
    "              data=coursera_data, \n",
    "              palette=\"YlOrRd\", \n",
    "              hue=\"course_Certificate_type\", \n",
    "              ax=axes[1])\n",
    "axes[1].set_xlabel('Course Certificate Type', fontsize=12)\n",
    "axes[1].set_ylabel('Number of Courses', fontsize=12)\n",
    "axes[1].set_title('Number of Courses by Certification', fontsize=15)\n",
    "\n",
    "# Adding the data labels:\n",
    "for i in axes[1].patches:\n",
    "    axes[1].annotate(str(int(i.get_height())), \n",
    "                    (i.get_x() + i.get_width() / 2., i.get_height()), \n",
    "                    ha='center',\n",
    "                    xytext=(0, 5),\n",
    "                    textcoords='offset points')\n",
    "    \n",
    "# Plotting the third countplot on the third subplot\n",
    "sns.countplot(x=\"course_Certificate_type\", \n",
    "              data=coursera_data, \n",
    "              palette=\"YlOrRd\", \n",
    "              hue=\"course_difficulty\", \n",
    "              ax=axes[2])\n",
    "axes[2].set_xlabel('Course Certificate Type', fontsize=12)\n",
    "axes[2].set_ylabel('Number of Courses', fontsize=12)\n",
    "axes[2].set_title('Number of Courses by Certification and Difficulty', fontsize=15)\n",
    "\n",
    "# Adding the data labels:\n",
    "for i in axes[2].patches:\n",
    "    axes[2].annotate(str(int(i.get_height())), \n",
    "                    (i.get_x() + i.get_width() / 2., i.get_height()), \n",
    "                    ha='center',\n",
    "                    xytext=(0, 5),\n",
    "                    textcoords='offset points')\n",
    "\n",
    "# Adjust layout for better spacing between plots\n",
    "plt.tight_layout()"
   ]
  },
  {
   "cell_type": "markdown",
   "metadata": {},
   "source": [
    "- About half of the courses are Beginner level\n",
    "- There are very few Advanced courses\n",
    "- About 2/3 are Course certificate types\n",
    "- Only a few courses give Professional certifiate and it does not have Advanced and Mixed levels\n",
    "- Beginner level and Course type courses have the biggest weight in the overall rating\n",
    "- Other groups follow a decreasing tendency as the level is ascending"
   ]
  },
  {
   "cell_type": "markdown",
   "metadata": {},
   "source": [
    "### Course Ratings and Difficulty Level"
   ]
  },
  {
   "cell_type": "code",
   "execution_count": 14,
   "metadata": {},
   "outputs": [
    {
     "data": {
      "text/html": [
       "<div>\n",
       "<style scoped>\n",
       "    .dataframe tbody tr th:only-of-type {\n",
       "        vertical-align: middle;\n",
       "    }\n",
       "\n",
       "    .dataframe tbody tr th {\n",
       "        vertical-align: top;\n",
       "    }\n",
       "\n",
       "    .dataframe thead th {\n",
       "        text-align: right;\n",
       "    }\n",
       "</style>\n",
       "<table border=\"1\" class=\"dataframe\">\n",
       "  <thead>\n",
       "    <tr style=\"text-align: right;\">\n",
       "      <th></th>\n",
       "      <th>course_difficulty</th>\n",
       "      <th>course_rating</th>\n",
       "    </tr>\n",
       "  </thead>\n",
       "  <tbody>\n",
       "    <tr>\n",
       "      <th>0</th>\n",
       "      <td>Advanced</td>\n",
       "      <td>4.600000</td>\n",
       "    </tr>\n",
       "    <tr>\n",
       "      <th>2</th>\n",
       "      <td>Intermediate</td>\n",
       "      <td>4.646465</td>\n",
       "    </tr>\n",
       "    <tr>\n",
       "      <th>1</th>\n",
       "      <td>Beginner</td>\n",
       "      <td>4.680903</td>\n",
       "    </tr>\n",
       "    <tr>\n",
       "      <th>3</th>\n",
       "      <td>Mixed</td>\n",
       "      <td>4.708556</td>\n",
       "    </tr>\n",
       "  </tbody>\n",
       "</table>\n",
       "</div>"
      ],
      "text/plain": [
       "  course_difficulty  course_rating\n",
       "0          Advanced       4.600000\n",
       "2      Intermediate       4.646465\n",
       "1          Beginner       4.680903\n",
       "3             Mixed       4.708556"
      ]
     },
     "execution_count": 14,
     "metadata": {},
     "output_type": "execute_result"
    }
   ],
   "source": [
    "# Compare average course ratings across different difficulty levels\n",
    "rating_mean_by_diff = coursera_data.groupby(\"course_difficulty\")[\"course_rating\"].mean().reset_index().sort_values(by=\"course_rating\")\n",
    "rating_mean_by_diff"
   ]
  },
  {
   "cell_type": "markdown",
   "metadata": {},
   "source": [
    "- Mixed level courses have the highest average rating\n",
    "- As the level increases, the rating decreases\n",
    "- Beginner level rating is the same as the total rating (probably due to the higher number)"
   ]
  },
  {
   "cell_type": "code",
   "execution_count": 43,
   "metadata": {},
   "outputs": [
    {
     "data": {
      "application/vnd.plotly.v1+json": {
       "config": {
        "plotlyServerURL": "https://plot.ly"
       },
       "data": [
        {
         "alignmentgroup": "True",
         "bingroup": "x",
         "hovertemplate": "Course Rating=3.3<br>course_difficulty=%{x}<br>count=%{y}<extra></extra>",
         "legendgroup": "3.3",
         "marker": {
          "color": "rgb(255,255,204)",
          "pattern": {
           "shape": ""
          }
         },
         "name": "3.3",
         "offsetgroup": "3.3",
         "orientation": "v",
         "showlegend": true,
         "type": "histogram",
         "x": [
          "Mixed"
         ],
         "xaxis": "x",
         "yaxis": "y"
        },
        {
         "alignmentgroup": "True",
         "bingroup": "x",
         "hovertemplate": "Course Rating=3.7<br>course_difficulty=%{x}<br>count=%{y}<extra></extra>",
         "legendgroup": "3.7",
         "marker": {
          "color": "rgb(255,237,160)",
          "pattern": {
           "shape": ""
          }
         },
         "name": "3.7",
         "offsetgroup": "3.7",
         "orientation": "v",
         "showlegend": true,
         "type": "histogram",
         "x": [
          "Intermediate"
         ],
         "xaxis": "x",
         "yaxis": "y"
        },
        {
         "alignmentgroup": "True",
         "bingroup": "x",
         "hovertemplate": "Course Rating=3.9<br>course_difficulty=%{x}<br>count=%{y}<extra></extra>",
         "legendgroup": "3.9",
         "marker": {
          "color": "rgb(254,217,118)",
          "pattern": {
           "shape": ""
          }
         },
         "name": "3.9",
         "offsetgroup": "3.9",
         "orientation": "v",
         "showlegend": true,
         "type": "histogram",
         "x": [
          "Intermediate",
          "Intermediate"
         ],
         "xaxis": "x",
         "yaxis": "y"
        },
        {
         "alignmentgroup": "True",
         "bingroup": "x",
         "hovertemplate": "Course Rating=4.0<br>course_difficulty=%{x}<br>count=%{y}<extra></extra>",
         "legendgroup": "4.0",
         "marker": {
          "color": "rgb(254,178,76)",
          "pattern": {
           "shape": ""
          }
         },
         "name": "4.0",
         "offsetgroup": "4.0",
         "orientation": "v",
         "showlegend": true,
         "type": "histogram",
         "x": [
          "Intermediate",
          "Intermediate"
         ],
         "xaxis": "x",
         "yaxis": "y"
        },
        {
         "alignmentgroup": "True",
         "bingroup": "x",
         "hovertemplate": "Course Rating=4.1<br>course_difficulty=%{x}<br>count=%{y}<extra></extra>",
         "legendgroup": "4.1",
         "marker": {
          "color": "rgb(253,141,60)",
          "pattern": {
           "shape": ""
          }
         },
         "name": "4.1",
         "offsetgroup": "4.1",
         "orientation": "v",
         "showlegend": true,
         "type": "histogram",
         "x": [
          "Beginner"
         ],
         "xaxis": "x",
         "yaxis": "y"
        },
        {
         "alignmentgroup": "True",
         "bingroup": "x",
         "hovertemplate": "Course Rating=4.2<br>course_difficulty=%{x}<br>count=%{y}<extra></extra>",
         "legendgroup": "4.2",
         "marker": {
          "color": "rgb(252,78,42)",
          "pattern": {
           "shape": ""
          }
         },
         "name": "4.2",
         "offsetgroup": "4.2",
         "orientation": "v",
         "showlegend": true,
         "type": "histogram",
         "x": [
          "Beginner",
          "Beginner",
          "Intermediate",
          "Intermediate",
          "Mixed",
          "Mixed",
          "Mixed",
          "Advanced",
          "Beginner",
          "Beginner"
         ],
         "xaxis": "x",
         "yaxis": "y"
        },
        {
         "alignmentgroup": "True",
         "bingroup": "x",
         "hovertemplate": "Course Rating=4.3<br>course_difficulty=%{x}<br>count=%{y}<extra></extra>",
         "legendgroup": "4.3",
         "marker": {
          "color": "rgb(227,26,28)",
          "pattern": {
           "shape": ""
          }
         },
         "name": "4.3",
         "offsetgroup": "4.3",
         "orientation": "v",
         "showlegend": true,
         "type": "histogram",
         "x": [
          "Beginner",
          "Intermediate",
          "Beginner",
          "Mixed",
          "Mixed",
          "Beginner",
          "Beginner",
          "Beginner",
          "Beginner",
          "Beginner",
          "Intermediate",
          "Advanced",
          "Beginner",
          "Beginner",
          "Beginner"
         ],
         "xaxis": "x",
         "yaxis": "y"
        },
        {
         "alignmentgroup": "True",
         "bingroup": "x",
         "hovertemplate": "Course Rating=4.4<br>course_difficulty=%{x}<br>count=%{y}<extra></extra>",
         "legendgroup": "4.4",
         "marker": {
          "color": "rgb(189,0,38)",
          "pattern": {
           "shape": ""
          }
         },
         "name": "4.4",
         "offsetgroup": "4.4",
         "orientation": "v",
         "showlegend": true,
         "type": "histogram",
         "x": [
          "Advanced",
          "Mixed",
          "Beginner",
          "Beginner",
          "Intermediate",
          "Beginner",
          "Intermediate",
          "Intermediate",
          "Intermediate",
          "Beginner",
          "Beginner",
          "Mixed",
          "Beginner",
          "Intermediate",
          "Intermediate",
          "Beginner",
          "Advanced",
          "Beginner",
          "Intermediate",
          "Mixed",
          "Beginner",
          "Beginner",
          "Beginner",
          "Beginner",
          "Intermediate",
          "Beginner",
          "Intermediate",
          "Beginner",
          "Beginner",
          "Intermediate",
          "Intermediate",
          "Intermediate",
          "Intermediate",
          "Beginner"
         ],
         "xaxis": "x",
         "yaxis": "y"
        },
        {
         "alignmentgroup": "True",
         "bingroup": "x",
         "hovertemplate": "Course Rating=4.5<br>course_difficulty=%{x}<br>count=%{y}<extra></extra>",
         "legendgroup": "4.5",
         "marker": {
          "color": "rgb(128,0,38)",
          "pattern": {
           "shape": ""
          }
         },
         "name": "4.5",
         "offsetgroup": "4.5",
         "orientation": "v",
         "showlegend": true,
         "type": "histogram",
         "x": [
          "Mixed",
          "Intermediate",
          "Mixed",
          "Intermediate",
          "Advanced",
          "Advanced",
          "Beginner",
          "Advanced",
          "Intermediate",
          "Intermediate",
          "Beginner",
          "Beginner",
          "Intermediate",
          "Beginner",
          "Mixed",
          "Beginner",
          "Beginner",
          "Beginner",
          "Beginner",
          "Beginner",
          "Intermediate",
          "Beginner",
          "Beginner",
          "Beginner",
          "Advanced",
          "Beginner",
          "Beginner",
          "Intermediate",
          "Beginner",
          "Beginner",
          "Beginner",
          "Beginner",
          "Beginner",
          "Beginner",
          "Beginner",
          "Intermediate",
          "Intermediate",
          "Beginner",
          "Beginner",
          "Intermediate",
          "Beginner",
          "Beginner",
          "Beginner",
          "Intermediate",
          "Intermediate",
          "Beginner",
          "Beginner",
          "Intermediate",
          "Intermediate",
          "Beginner",
          "Mixed",
          "Beginner",
          "Beginner",
          "Beginner",
          "Intermediate",
          "Intermediate",
          "Intermediate",
          "Beginner",
          "Beginner",
          "Beginner",
          "Intermediate",
          "Mixed",
          "Mixed",
          "Beginner",
          "Mixed",
          "Mixed",
          "Advanced",
          "Intermediate",
          "Beginner",
          "Intermediate",
          "Beginner",
          "Intermediate",
          "Mixed",
          "Intermediate",
          "Mixed",
          "Beginner",
          "Beginner",
          "Intermediate",
          "Intermediate",
          "Intermediate"
         ],
         "xaxis": "x",
         "yaxis": "y"
        },
        {
         "alignmentgroup": "True",
         "bingroup": "x",
         "hovertemplate": "Course Rating=4.6<br>course_difficulty=%{x}<br>count=%{y}<extra></extra>",
         "legendgroup": "4.6",
         "marker": {
          "color": "rgb(255,255,204)",
          "pattern": {
           "shape": ""
          }
         },
         "name": "4.6",
         "offsetgroup": "4.6",
         "orientation": "v",
         "showlegend": true,
         "type": "histogram",
         "x": [
          "Intermediate",
          "Beginner",
          "Beginner",
          "Beginner",
          "Beginner",
          "Intermediate",
          "Beginner",
          "Intermediate",
          "Intermediate",
          "Mixed",
          "Mixed",
          "Beginner",
          "Beginner",
          "Mixed",
          "Beginner",
          "Intermediate",
          "Beginner",
          "Beginner",
          "Intermediate",
          "Beginner",
          "Mixed",
          "Beginner",
          "Beginner",
          "Beginner",
          "Beginner",
          "Mixed",
          "Beginner",
          "Beginner",
          "Beginner",
          "Beginner",
          "Beginner",
          "Beginner",
          "Intermediate",
          "Intermediate",
          "Beginner",
          "Beginner",
          "Intermediate",
          "Beginner",
          "Mixed",
          "Beginner",
          "Beginner",
          "Intermediate",
          "Intermediate",
          "Intermediate",
          "Beginner",
          "Beginner",
          "Beginner",
          "Mixed",
          "Beginner",
          "Beginner",
          "Beginner",
          "Intermediate",
          "Beginner",
          "Mixed",
          "Intermediate",
          "Beginner",
          "Beginner",
          "Mixed",
          "Intermediate",
          "Beginner",
          "Beginner",
          "Beginner",
          "Beginner",
          "Beginner",
          "Mixed",
          "Beginner",
          "Beginner",
          "Beginner",
          "Beginner",
          "Beginner",
          "Intermediate",
          "Beginner",
          "Mixed",
          "Intermediate",
          "Mixed",
          "Intermediate",
          "Beginner",
          "Intermediate",
          "Beginner",
          "Mixed",
          "Beginner",
          "Beginner",
          "Intermediate",
          "Beginner",
          "Beginner",
          "Beginner",
          "Beginner",
          "Beginner",
          "Beginner",
          "Intermediate",
          "Beginner",
          "Beginner",
          "Beginner",
          "Intermediate",
          "Mixed",
          "Beginner",
          "Mixed",
          "Beginner",
          "Mixed",
          "Mixed",
          "Beginner",
          "Beginner",
          "Beginner",
          "Beginner",
          "Beginner",
          "Beginner",
          "Beginner",
          "Mixed",
          "Intermediate",
          "Mixed",
          "Beginner",
          "Intermediate",
          "Beginner",
          "Beginner",
          "Beginner",
          "Beginner",
          "Beginner",
          "Beginner",
          "Mixed",
          "Intermediate",
          "Beginner",
          "Beginner",
          "Beginner",
          "Beginner",
          "Beginner",
          "Intermediate",
          "Beginner",
          "Beginner",
          "Beginner",
          "Intermediate",
          "Beginner",
          "Beginner",
          "Beginner",
          "Intermediate",
          "Beginner",
          "Mixed",
          "Beginner",
          "Beginner",
          "Beginner",
          "Beginner",
          "Beginner",
          "Beginner",
          "Beginner",
          "Intermediate",
          "Beginner",
          "Beginner",
          "Mixed",
          "Beginner",
          "Beginner",
          "Intermediate",
          "Mixed",
          "Beginner",
          "Beginner",
          "Beginner",
          "Mixed",
          "Mixed",
          "Mixed",
          "Beginner",
          "Mixed",
          "Mixed",
          "Beginner",
          "Beginner",
          "Beginner",
          "Intermediate",
          "Mixed",
          "Beginner",
          "Beginner",
          "Intermediate"
         ],
         "xaxis": "x",
         "yaxis": "y"
        },
        {
         "alignmentgroup": "True",
         "bingroup": "x",
         "hovertemplate": "Course Rating=4.7<br>course_difficulty=%{x}<br>count=%{y}<extra></extra>",
         "legendgroup": "4.7",
         "marker": {
          "color": "rgb(255,237,160)",
          "pattern": {
           "shape": ""
          }
         },
         "name": "4.7",
         "offsetgroup": "4.7",
         "orientation": "v",
         "showlegend": true,
         "type": "histogram",
         "x": [
          "Beginner",
          "Intermediate",
          "Mixed",
          "Beginner",
          "Beginner",
          "Intermediate",
          "Intermediate",
          "Beginner",
          "Beginner",
          "Mixed",
          "Beginner",
          "Intermediate",
          "Beginner",
          "Advanced",
          "Beginner",
          "Beginner",
          "Beginner",
          "Beginner",
          "Intermediate",
          "Beginner",
          "Intermediate",
          "Intermediate",
          "Mixed",
          "Advanced",
          "Advanced",
          "Beginner",
          "Intermediate",
          "Beginner",
          "Beginner",
          "Beginner",
          "Mixed",
          "Intermediate",
          "Intermediate",
          "Intermediate",
          "Beginner",
          "Mixed",
          "Beginner",
          "Beginner",
          "Beginner",
          "Beginner",
          "Beginner",
          "Mixed",
          "Beginner",
          "Beginner",
          "Mixed",
          "Beginner",
          "Beginner",
          "Intermediate",
          "Intermediate",
          "Beginner",
          "Beginner",
          "Beginner",
          "Intermediate",
          "Beginner",
          "Beginner",
          "Beginner",
          "Intermediate",
          "Mixed",
          "Beginner",
          "Beginner",
          "Beginner",
          "Intermediate",
          "Beginner",
          "Mixed",
          "Beginner",
          "Beginner",
          "Beginner",
          "Mixed",
          "Mixed",
          "Intermediate",
          "Mixed",
          "Beginner",
          "Beginner",
          "Beginner",
          "Beginner",
          "Mixed",
          "Intermediate",
          "Intermediate",
          "Beginner",
          "Beginner",
          "Beginner",
          "Mixed",
          "Beginner",
          "Beginner",
          "Beginner",
          "Intermediate",
          "Intermediate",
          "Beginner",
          "Intermediate",
          "Beginner",
          "Intermediate",
          "Beginner",
          "Beginner",
          "Mixed",
          "Beginner",
          "Intermediate",
          "Intermediate",
          "Intermediate",
          "Intermediate",
          "Mixed",
          "Intermediate",
          "Intermediate",
          "Beginner",
          "Beginner",
          "Beginner",
          "Intermediate",
          "Beginner",
          "Mixed",
          "Beginner",
          "Beginner",
          "Intermediate",
          "Beginner",
          "Mixed",
          "Beginner",
          "Mixed",
          "Beginner",
          "Intermediate",
          "Beginner",
          "Beginner",
          "Beginner",
          "Beginner",
          "Beginner",
          "Mixed",
          "Intermediate",
          "Beginner",
          "Beginner",
          "Beginner",
          "Beginner",
          "Intermediate",
          "Beginner",
          "Beginner",
          "Mixed",
          "Mixed",
          "Mixed",
          "Mixed",
          "Mixed",
          "Beginner",
          "Beginner",
          "Beginner",
          "Beginner",
          "Mixed",
          "Intermediate",
          "Beginner",
          "Mixed",
          "Beginner",
          "Intermediate",
          "Beginner",
          "Beginner",
          "Mixed",
          "Beginner",
          "Intermediate",
          "Intermediate",
          "Beginner",
          "Beginner",
          "Beginner",
          "Intermediate",
          "Beginner",
          "Mixed",
          "Beginner",
          "Beginner",
          "Mixed",
          "Beginner",
          "Intermediate",
          "Beginner",
          "Mixed",
          "Beginner",
          "Beginner",
          "Mixed",
          "Beginner",
          "Beginner",
          "Intermediate",
          "Intermediate",
          "Beginner",
          "Intermediate",
          "Mixed",
          "Beginner",
          "Intermediate",
          "Intermediate",
          "Intermediate",
          "Mixed",
          "Intermediate",
          "Beginner",
          "Intermediate",
          "Beginner",
          "Beginner",
          "Beginner",
          "Mixed",
          "Beginner",
          "Beginner",
          "Advanced",
          "Beginner",
          "Beginner",
          "Beginner",
          "Intermediate",
          "Mixed",
          "Mixed",
          "Intermediate",
          "Beginner",
          "Beginner",
          "Beginner",
          "Beginner",
          "Beginner",
          "Mixed",
          "Beginner",
          "Intermediate",
          "Advanced",
          "Beginner",
          "Intermediate",
          "Intermediate",
          "Beginner",
          "Mixed",
          "Intermediate",
          "Beginner",
          "Beginner",
          "Beginner",
          "Beginner",
          "Beginner",
          "Beginner",
          "Mixed",
          "Beginner",
          "Beginner",
          "Beginner",
          "Beginner",
          "Beginner",
          "Intermediate",
          "Beginner",
          "Beginner",
          "Intermediate",
          "Mixed",
          "Intermediate",
          "Beginner",
          "Mixed",
          "Beginner",
          "Beginner",
          "Beginner",
          "Beginner",
          "Beginner",
          "Intermediate",
          "Mixed",
          "Beginner",
          "Beginner",
          "Beginner",
          "Beginner",
          "Mixed",
          "Beginner",
          "Beginner",
          "Mixed",
          "Beginner",
          "Intermediate",
          "Intermediate",
          "Beginner"
         ],
         "xaxis": "x",
         "yaxis": "y"
        },
        {
         "alignmentgroup": "True",
         "bingroup": "x",
         "hovertemplate": "Course Rating=4.8<br>course_difficulty=%{x}<br>count=%{y}<extra></extra>",
         "legendgroup": "4.8",
         "marker": {
          "color": "rgb(254,217,118)",
          "pattern": {
           "shape": ""
          }
         },
         "name": "4.8",
         "offsetgroup": "4.8",
         "orientation": "v",
         "showlegend": true,
         "type": "histogram",
         "x": [
          "Mixed",
          "Beginner",
          "Intermediate",
          "Intermediate",
          "Mixed",
          "Beginner",
          "Mixed",
          "Intermediate",
          "Intermediate",
          "Beginner",
          "Beginner",
          "Intermediate",
          "Beginner",
          "Mixed",
          "Mixed",
          "Beginner",
          "Mixed",
          "Mixed",
          "Mixed",
          "Mixed",
          "Intermediate",
          "Intermediate",
          "Intermediate",
          "Intermediate",
          "Intermediate",
          "Beginner",
          "Beginner",
          "Intermediate",
          "Beginner",
          "Beginner",
          "Beginner",
          "Beginner",
          "Mixed",
          "Beginner",
          "Beginner",
          "Beginner",
          "Beginner",
          "Beginner",
          "Beginner",
          "Mixed",
          "Intermediate",
          "Mixed",
          "Beginner",
          "Beginner",
          "Intermediate",
          "Beginner",
          "Intermediate",
          "Intermediate",
          "Beginner",
          "Mixed",
          "Beginner",
          "Beginner",
          "Beginner",
          "Intermediate",
          "Beginner",
          "Intermediate",
          "Mixed",
          "Beginner",
          "Intermediate",
          "Beginner",
          "Beginner",
          "Intermediate",
          "Beginner",
          "Intermediate",
          "Beginner",
          "Beginner",
          "Mixed",
          "Mixed",
          "Beginner",
          "Beginner",
          "Mixed",
          "Mixed",
          "Beginner",
          "Mixed",
          "Mixed",
          "Beginner",
          "Intermediate",
          "Mixed",
          "Beginner",
          "Beginner",
          "Intermediate",
          "Beginner",
          "Beginner",
          "Beginner",
          "Beginner",
          "Beginner",
          "Beginner",
          "Beginner",
          "Beginner",
          "Beginner",
          "Intermediate",
          "Mixed",
          "Mixed",
          "Mixed",
          "Beginner",
          "Beginner",
          "Mixed",
          "Beginner",
          "Beginner",
          "Beginner",
          "Beginner",
          "Intermediate",
          "Intermediate",
          "Beginner",
          "Beginner",
          "Beginner",
          "Intermediate",
          "Beginner",
          "Beginner",
          "Beginner",
          "Mixed",
          "Beginner",
          "Mixed",
          "Mixed",
          "Intermediate",
          "Beginner",
          "Mixed",
          "Mixed",
          "Mixed",
          "Mixed",
          "Mixed",
          "Intermediate",
          "Beginner",
          "Beginner",
          "Mixed",
          "Beginner",
          "Beginner",
          "Beginner",
          "Mixed",
          "Beginner",
          "Intermediate",
          "Beginner",
          "Mixed",
          "Mixed",
          "Mixed",
          "Beginner",
          "Mixed",
          "Mixed",
          "Mixed",
          "Mixed",
          "Intermediate",
          "Beginner",
          "Beginner",
          "Mixed",
          "Mixed",
          "Mixed",
          "Beginner",
          "Mixed",
          "Mixed",
          "Intermediate",
          "Mixed",
          "Beginner",
          "Advanced",
          "Mixed",
          "Mixed",
          "Beginner",
          "Beginner",
          "Beginner",
          "Beginner",
          "Beginner",
          "Intermediate",
          "Beginner",
          "Advanced",
          "Beginner",
          "Beginner",
          "Intermediate",
          "Beginner",
          "Mixed",
          "Beginner",
          "Beginner",
          "Mixed",
          "Beginner",
          "Mixed",
          "Intermediate",
          "Beginner",
          "Beginner",
          "Mixed",
          "Mixed",
          "Intermediate",
          "Beginner",
          "Beginner",
          "Intermediate",
          "Mixed",
          "Beginner",
          "Beginner",
          "Mixed",
          "Beginner",
          "Beginner",
          "Intermediate",
          "Mixed",
          "Beginner",
          "Mixed",
          "Mixed",
          "Intermediate",
          "Mixed",
          "Mixed",
          "Beginner",
          "Beginner",
          "Beginner",
          "Beginner",
          "Mixed",
          "Beginner",
          "Intermediate",
          "Beginner",
          "Beginner",
          "Intermediate",
          "Beginner",
          "Beginner",
          "Beginner",
          "Advanced",
          "Beginner",
          "Beginner",
          "Advanced",
          "Mixed",
          "Intermediate",
          "Beginner",
          "Beginner",
          "Mixed",
          "Beginner",
          "Beginner",
          "Mixed",
          "Mixed",
          "Beginner",
          "Beginner",
          "Beginner",
          "Intermediate",
          "Beginner",
          "Beginner",
          "Beginner",
          "Mixed",
          "Mixed",
          "Beginner",
          "Beginner",
          "Beginner",
          "Beginner",
          "Beginner",
          "Beginner",
          "Mixed",
          "Intermediate",
          "Beginner",
          "Beginner",
          "Mixed",
          "Beginner",
          "Beginner",
          "Beginner",
          "Beginner",
          "Mixed",
          "Mixed",
          "Mixed",
          "Mixed",
          "Intermediate",
          "Mixed",
          "Intermediate",
          "Intermediate",
          "Beginner",
          "Mixed"
         ],
         "xaxis": "x",
         "yaxis": "y"
        },
        {
         "alignmentgroup": "True",
         "bingroup": "x",
         "hovertemplate": "Course Rating=4.9<br>course_difficulty=%{x}<br>count=%{y}<extra></extra>",
         "legendgroup": "4.9",
         "marker": {
          "color": "rgb(254,178,76)",
          "pattern": {
           "shape": ""
          }
         },
         "name": "4.9",
         "offsetgroup": "4.9",
         "orientation": "v",
         "showlegend": true,
         "type": "histogram",
         "x": [
          "Beginner",
          "Beginner",
          "Beginner",
          "Beginner",
          "Beginner",
          "Mixed",
          "Beginner",
          "Beginner",
          "Beginner",
          "Mixed",
          "Beginner",
          "Beginner",
          "Intermediate",
          "Intermediate",
          "Beginner",
          "Mixed",
          "Mixed",
          "Beginner",
          "Beginner",
          "Beginner",
          "Beginner",
          "Intermediate",
          "Beginner",
          "Intermediate",
          "Beginner",
          "Beginner",
          "Beginner",
          "Beginner",
          "Beginner",
          "Mixed",
          "Mixed",
          "Mixed",
          "Beginner",
          "Beginner",
          "Beginner",
          "Beginner",
          "Mixed",
          "Beginner",
          "Advanced",
          "Beginner",
          "Mixed",
          "Mixed",
          "Mixed",
          "Intermediate",
          "Beginner",
          "Mixed",
          "Beginner",
          "Mixed",
          "Intermediate",
          "Beginner",
          "Beginner",
          "Intermediate",
          "Mixed",
          "Beginner",
          "Beginner",
          "Mixed",
          "Mixed",
          "Intermediate",
          "Beginner",
          "Mixed",
          "Intermediate",
          "Beginner",
          "Beginner",
          "Intermediate",
          "Beginner",
          "Beginner",
          "Intermediate",
          "Intermediate"
         ],
         "xaxis": "x",
         "yaxis": "y"
        },
        {
         "alignmentgroup": "True",
         "bingroup": "x",
         "hovertemplate": "Course Rating=5.0<br>course_difficulty=%{x}<br>count=%{y}<extra></extra>",
         "legendgroup": "5.0",
         "marker": {
          "color": "rgb(253,141,60)",
          "pattern": {
           "shape": ""
          }
         },
         "name": "5.0",
         "offsetgroup": "5.0",
         "orientation": "v",
         "showlegend": true,
         "type": "histogram",
         "x": [
          "Beginner",
          "Intermediate"
         ],
         "xaxis": "x",
         "yaxis": "y"
        }
       ],
       "layout": {
        "barmode": "group",
        "legend": {
         "title": {
          "text": "Course Rating"
         },
         "tracegroupgap": 0
        },
        "margin": {
         "t": 60
        },
        "template": {
         "data": {
          "bar": [
           {
            "error_x": {
             "color": "#2a3f5f"
            },
            "error_y": {
             "color": "#2a3f5f"
            },
            "marker": {
             "line": {
              "color": "#E5ECF6",
              "width": 0.5
             },
             "pattern": {
              "fillmode": "overlay",
              "size": 10,
              "solidity": 0.2
             }
            },
            "type": "bar"
           }
          ],
          "barpolar": [
           {
            "marker": {
             "line": {
              "color": "#E5ECF6",
              "width": 0.5
             },
             "pattern": {
              "fillmode": "overlay",
              "size": 10,
              "solidity": 0.2
             }
            },
            "type": "barpolar"
           }
          ],
          "carpet": [
           {
            "aaxis": {
             "endlinecolor": "#2a3f5f",
             "gridcolor": "white",
             "linecolor": "white",
             "minorgridcolor": "white",
             "startlinecolor": "#2a3f5f"
            },
            "baxis": {
             "endlinecolor": "#2a3f5f",
             "gridcolor": "white",
             "linecolor": "white",
             "minorgridcolor": "white",
             "startlinecolor": "#2a3f5f"
            },
            "type": "carpet"
           }
          ],
          "choropleth": [
           {
            "colorbar": {
             "outlinewidth": 0,
             "ticks": ""
            },
            "type": "choropleth"
           }
          ],
          "contour": [
           {
            "colorbar": {
             "outlinewidth": 0,
             "ticks": ""
            },
            "colorscale": [
             [
              0,
              "#0d0887"
             ],
             [
              0.1111111111111111,
              "#46039f"
             ],
             [
              0.2222222222222222,
              "#7201a8"
             ],
             [
              0.3333333333333333,
              "#9c179e"
             ],
             [
              0.4444444444444444,
              "#bd3786"
             ],
             [
              0.5555555555555556,
              "#d8576b"
             ],
             [
              0.6666666666666666,
              "#ed7953"
             ],
             [
              0.7777777777777778,
              "#fb9f3a"
             ],
             [
              0.8888888888888888,
              "#fdca26"
             ],
             [
              1,
              "#f0f921"
             ]
            ],
            "type": "contour"
           }
          ],
          "contourcarpet": [
           {
            "colorbar": {
             "outlinewidth": 0,
             "ticks": ""
            },
            "type": "contourcarpet"
           }
          ],
          "heatmap": [
           {
            "colorbar": {
             "outlinewidth": 0,
             "ticks": ""
            },
            "colorscale": [
             [
              0,
              "#0d0887"
             ],
             [
              0.1111111111111111,
              "#46039f"
             ],
             [
              0.2222222222222222,
              "#7201a8"
             ],
             [
              0.3333333333333333,
              "#9c179e"
             ],
             [
              0.4444444444444444,
              "#bd3786"
             ],
             [
              0.5555555555555556,
              "#d8576b"
             ],
             [
              0.6666666666666666,
              "#ed7953"
             ],
             [
              0.7777777777777778,
              "#fb9f3a"
             ],
             [
              0.8888888888888888,
              "#fdca26"
             ],
             [
              1,
              "#f0f921"
             ]
            ],
            "type": "heatmap"
           }
          ],
          "heatmapgl": [
           {
            "colorbar": {
             "outlinewidth": 0,
             "ticks": ""
            },
            "colorscale": [
             [
              0,
              "#0d0887"
             ],
             [
              0.1111111111111111,
              "#46039f"
             ],
             [
              0.2222222222222222,
              "#7201a8"
             ],
             [
              0.3333333333333333,
              "#9c179e"
             ],
             [
              0.4444444444444444,
              "#bd3786"
             ],
             [
              0.5555555555555556,
              "#d8576b"
             ],
             [
              0.6666666666666666,
              "#ed7953"
             ],
             [
              0.7777777777777778,
              "#fb9f3a"
             ],
             [
              0.8888888888888888,
              "#fdca26"
             ],
             [
              1,
              "#f0f921"
             ]
            ],
            "type": "heatmapgl"
           }
          ],
          "histogram": [
           {
            "marker": {
             "pattern": {
              "fillmode": "overlay",
              "size": 10,
              "solidity": 0.2
             }
            },
            "type": "histogram"
           }
          ],
          "histogram2d": [
           {
            "colorbar": {
             "outlinewidth": 0,
             "ticks": ""
            },
            "colorscale": [
             [
              0,
              "#0d0887"
             ],
             [
              0.1111111111111111,
              "#46039f"
             ],
             [
              0.2222222222222222,
              "#7201a8"
             ],
             [
              0.3333333333333333,
              "#9c179e"
             ],
             [
              0.4444444444444444,
              "#bd3786"
             ],
             [
              0.5555555555555556,
              "#d8576b"
             ],
             [
              0.6666666666666666,
              "#ed7953"
             ],
             [
              0.7777777777777778,
              "#fb9f3a"
             ],
             [
              0.8888888888888888,
              "#fdca26"
             ],
             [
              1,
              "#f0f921"
             ]
            ],
            "type": "histogram2d"
           }
          ],
          "histogram2dcontour": [
           {
            "colorbar": {
             "outlinewidth": 0,
             "ticks": ""
            },
            "colorscale": [
             [
              0,
              "#0d0887"
             ],
             [
              0.1111111111111111,
              "#46039f"
             ],
             [
              0.2222222222222222,
              "#7201a8"
             ],
             [
              0.3333333333333333,
              "#9c179e"
             ],
             [
              0.4444444444444444,
              "#bd3786"
             ],
             [
              0.5555555555555556,
              "#d8576b"
             ],
             [
              0.6666666666666666,
              "#ed7953"
             ],
             [
              0.7777777777777778,
              "#fb9f3a"
             ],
             [
              0.8888888888888888,
              "#fdca26"
             ],
             [
              1,
              "#f0f921"
             ]
            ],
            "type": "histogram2dcontour"
           }
          ],
          "mesh3d": [
           {
            "colorbar": {
             "outlinewidth": 0,
             "ticks": ""
            },
            "type": "mesh3d"
           }
          ],
          "parcoords": [
           {
            "line": {
             "colorbar": {
              "outlinewidth": 0,
              "ticks": ""
             }
            },
            "type": "parcoords"
           }
          ],
          "pie": [
           {
            "automargin": true,
            "type": "pie"
           }
          ],
          "scatter": [
           {
            "fillpattern": {
             "fillmode": "overlay",
             "size": 10,
             "solidity": 0.2
            },
            "type": "scatter"
           }
          ],
          "scatter3d": [
           {
            "line": {
             "colorbar": {
              "outlinewidth": 0,
              "ticks": ""
             }
            },
            "marker": {
             "colorbar": {
              "outlinewidth": 0,
              "ticks": ""
             }
            },
            "type": "scatter3d"
           }
          ],
          "scattercarpet": [
           {
            "marker": {
             "colorbar": {
              "outlinewidth": 0,
              "ticks": ""
             }
            },
            "type": "scattercarpet"
           }
          ],
          "scattergeo": [
           {
            "marker": {
             "colorbar": {
              "outlinewidth": 0,
              "ticks": ""
             }
            },
            "type": "scattergeo"
           }
          ],
          "scattergl": [
           {
            "marker": {
             "colorbar": {
              "outlinewidth": 0,
              "ticks": ""
             }
            },
            "type": "scattergl"
           }
          ],
          "scattermapbox": [
           {
            "marker": {
             "colorbar": {
              "outlinewidth": 0,
              "ticks": ""
             }
            },
            "type": "scattermapbox"
           }
          ],
          "scatterpolar": [
           {
            "marker": {
             "colorbar": {
              "outlinewidth": 0,
              "ticks": ""
             }
            },
            "type": "scatterpolar"
           }
          ],
          "scatterpolargl": [
           {
            "marker": {
             "colorbar": {
              "outlinewidth": 0,
              "ticks": ""
             }
            },
            "type": "scatterpolargl"
           }
          ],
          "scatterternary": [
           {
            "marker": {
             "colorbar": {
              "outlinewidth": 0,
              "ticks": ""
             }
            },
            "type": "scatterternary"
           }
          ],
          "surface": [
           {
            "colorbar": {
             "outlinewidth": 0,
             "ticks": ""
            },
            "colorscale": [
             [
              0,
              "#0d0887"
             ],
             [
              0.1111111111111111,
              "#46039f"
             ],
             [
              0.2222222222222222,
              "#7201a8"
             ],
             [
              0.3333333333333333,
              "#9c179e"
             ],
             [
              0.4444444444444444,
              "#bd3786"
             ],
             [
              0.5555555555555556,
              "#d8576b"
             ],
             [
              0.6666666666666666,
              "#ed7953"
             ],
             [
              0.7777777777777778,
              "#fb9f3a"
             ],
             [
              0.8888888888888888,
              "#fdca26"
             ],
             [
              1,
              "#f0f921"
             ]
            ],
            "type": "surface"
           }
          ],
          "table": [
           {
            "cells": {
             "fill": {
              "color": "#EBF0F8"
             },
             "line": {
              "color": "white"
             }
            },
            "header": {
             "fill": {
              "color": "#C8D4E3"
             },
             "line": {
              "color": "white"
             }
            },
            "type": "table"
           }
          ]
         },
         "layout": {
          "annotationdefaults": {
           "arrowcolor": "#2a3f5f",
           "arrowhead": 0,
           "arrowwidth": 1
          },
          "autotypenumbers": "strict",
          "coloraxis": {
           "colorbar": {
            "outlinewidth": 0,
            "ticks": ""
           }
          },
          "colorscale": {
           "diverging": [
            [
             0,
             "#8e0152"
            ],
            [
             0.1,
             "#c51b7d"
            ],
            [
             0.2,
             "#de77ae"
            ],
            [
             0.3,
             "#f1b6da"
            ],
            [
             0.4,
             "#fde0ef"
            ],
            [
             0.5,
             "#f7f7f7"
            ],
            [
             0.6,
             "#e6f5d0"
            ],
            [
             0.7,
             "#b8e186"
            ],
            [
             0.8,
             "#7fbc41"
            ],
            [
             0.9,
             "#4d9221"
            ],
            [
             1,
             "#276419"
            ]
           ],
           "sequential": [
            [
             0,
             "#0d0887"
            ],
            [
             0.1111111111111111,
             "#46039f"
            ],
            [
             0.2222222222222222,
             "#7201a8"
            ],
            [
             0.3333333333333333,
             "#9c179e"
            ],
            [
             0.4444444444444444,
             "#bd3786"
            ],
            [
             0.5555555555555556,
             "#d8576b"
            ],
            [
             0.6666666666666666,
             "#ed7953"
            ],
            [
             0.7777777777777778,
             "#fb9f3a"
            ],
            [
             0.8888888888888888,
             "#fdca26"
            ],
            [
             1,
             "#f0f921"
            ]
           ],
           "sequentialminus": [
            [
             0,
             "#0d0887"
            ],
            [
             0.1111111111111111,
             "#46039f"
            ],
            [
             0.2222222222222222,
             "#7201a8"
            ],
            [
             0.3333333333333333,
             "#9c179e"
            ],
            [
             0.4444444444444444,
             "#bd3786"
            ],
            [
             0.5555555555555556,
             "#d8576b"
            ],
            [
             0.6666666666666666,
             "#ed7953"
            ],
            [
             0.7777777777777778,
             "#fb9f3a"
            ],
            [
             0.8888888888888888,
             "#fdca26"
            ],
            [
             1,
             "#f0f921"
            ]
           ]
          },
          "colorway": [
           "#636efa",
           "#EF553B",
           "#00cc96",
           "#ab63fa",
           "#FFA15A",
           "#19d3f3",
           "#FF6692",
           "#B6E880",
           "#FF97FF",
           "#FECB52"
          ],
          "font": {
           "color": "#2a3f5f"
          },
          "geo": {
           "bgcolor": "white",
           "lakecolor": "white",
           "landcolor": "#E5ECF6",
           "showlakes": true,
           "showland": true,
           "subunitcolor": "white"
          },
          "hoverlabel": {
           "align": "left"
          },
          "hovermode": "closest",
          "mapbox": {
           "style": "light"
          },
          "paper_bgcolor": "white",
          "plot_bgcolor": "#E5ECF6",
          "polar": {
           "angularaxis": {
            "gridcolor": "white",
            "linecolor": "white",
            "ticks": ""
           },
           "bgcolor": "#E5ECF6",
           "radialaxis": {
            "gridcolor": "white",
            "linecolor": "white",
            "ticks": ""
           }
          },
          "scene": {
           "xaxis": {
            "backgroundcolor": "#E5ECF6",
            "gridcolor": "white",
            "gridwidth": 2,
            "linecolor": "white",
            "showbackground": true,
            "ticks": "",
            "zerolinecolor": "white"
           },
           "yaxis": {
            "backgroundcolor": "#E5ECF6",
            "gridcolor": "white",
            "gridwidth": 2,
            "linecolor": "white",
            "showbackground": true,
            "ticks": "",
            "zerolinecolor": "white"
           },
           "zaxis": {
            "backgroundcolor": "#E5ECF6",
            "gridcolor": "white",
            "gridwidth": 2,
            "linecolor": "white",
            "showbackground": true,
            "ticks": "",
            "zerolinecolor": "white"
           }
          },
          "shapedefaults": {
           "line": {
            "color": "#2a3f5f"
           }
          },
          "ternary": {
           "aaxis": {
            "gridcolor": "white",
            "linecolor": "white",
            "ticks": ""
           },
           "baxis": {
            "gridcolor": "white",
            "linecolor": "white",
            "ticks": ""
           },
           "bgcolor": "#E5ECF6",
           "caxis": {
            "gridcolor": "white",
            "linecolor": "white",
            "ticks": ""
           }
          },
          "title": {
           "x": 0.05
          },
          "xaxis": {
           "automargin": true,
           "gridcolor": "white",
           "linecolor": "white",
           "ticks": "",
           "title": {
            "standoff": 15
           },
           "zerolinecolor": "white",
           "zerolinewidth": 2
          },
          "yaxis": {
           "automargin": true,
           "gridcolor": "white",
           "linecolor": "white",
           "ticks": "",
           "title": {
            "standoff": 15
           },
           "zerolinecolor": "white",
           "zerolinewidth": 2
          }
         }
        },
        "title": {
         "text": "Rating distribution per Difficulty"
        },
        "width": 1000,
        "xaxis": {
         "anchor": "y",
         "domain": [
          0,
          1
         ],
         "title": {
          "text": "Difficulty level"
         }
        },
        "yaxis": {
         "anchor": "x",
         "domain": [
          0,
          1
         ],
         "title": {
          "text": "Number of courses"
         }
        }
       }
      }
     },
     "metadata": {},
     "output_type": "display_data"
    }
   ],
   "source": [
    "fig = px.histogram(coursera_data, x=\"course_difficulty\", color=\"course_rating\", \n",
    "                   barmode=\"group\", \n",
    "                   category_orders={\"course_rating\": coursera_data[\"course_rating\"].sort_values()},\n",
    "                   color_discrete_sequence=px.colors.sequential.YlOrRd,\n",
    "                   labels={\"course_rating\": \"Course Rating\"})\n",
    "fig.update_layout(title=\"Rating distribution per Difficulty\", \n",
    "                  xaxis_title=\"Difficulty level\", \n",
    "                  yaxis_title=\"Number of courses\",\n",
    "                  width=1000)\n",
    "fig.show()"
   ]
  },
  {
   "cell_type": "markdown",
   "metadata": {},
   "source": [
    "- Beginner level has the highest peaks\n",
    "- Intermediate and Advanced are more flat (at this level students have some knowledge, they can evaluate the course more critically)"
   ]
  },
  {
   "cell_type": "markdown",
   "metadata": {},
   "source": [
    "### Course Enrollment and Difficulty Level"
   ]
  },
  {
   "cell_type": "code",
   "execution_count": 16,
   "metadata": {},
   "outputs": [
    {
     "data": {
      "text/html": [
       "<div>\n",
       "<style scoped>\n",
       "    .dataframe tbody tr th:only-of-type {\n",
       "        vertical-align: middle;\n",
       "    }\n",
       "\n",
       "    .dataframe tbody tr th {\n",
       "        vertical-align: top;\n",
       "    }\n",
       "\n",
       "    .dataframe thead th {\n",
       "        text-align: right;\n",
       "    }\n",
       "</style>\n",
       "<table border=\"1\" class=\"dataframe\">\n",
       "  <thead>\n",
       "    <tr style=\"text-align: right;\">\n",
       "      <th></th>\n",
       "      <th>course_title</th>\n",
       "      <th>course_organization</th>\n",
       "      <th>course_Certificate_type</th>\n",
       "      <th>course_rating</th>\n",
       "      <th>course_difficulty</th>\n",
       "      <th>course_students_enrolled</th>\n",
       "    </tr>\n",
       "  </thead>\n",
       "  <tbody>\n",
       "    <tr>\n",
       "      <th>134</th>\n",
       "      <td>(ISC)² Systems Security Certified Practitioner...</td>\n",
       "      <td>(ISC)²</td>\n",
       "      <td>SPECIALIZATION</td>\n",
       "      <td>4.7</td>\n",
       "      <td>Beginner</td>\n",
       "      <td>5300</td>\n",
       "    </tr>\n",
       "    <tr>\n",
       "      <th>743</th>\n",
       "      <td>A Crash Course in Causality:  Inferring Causal...</td>\n",
       "      <td>University of Pennsylvania</td>\n",
       "      <td>COURSE</td>\n",
       "      <td>4.7</td>\n",
       "      <td>Intermediate</td>\n",
       "      <td>17000</td>\n",
       "    </tr>\n",
       "    <tr>\n",
       "      <th>874</th>\n",
       "      <td>A Crash Course in Data Science</td>\n",
       "      <td>Johns Hopkins University</td>\n",
       "      <td>COURSE</td>\n",
       "      <td>4.5</td>\n",
       "      <td>Mixed</td>\n",
       "      <td>130000</td>\n",
       "    </tr>\n",
       "    <tr>\n",
       "      <th>413</th>\n",
       "      <td>A Law Student's Toolkit</td>\n",
       "      <td>Yale University</td>\n",
       "      <td>COURSE</td>\n",
       "      <td>4.7</td>\n",
       "      <td>Mixed</td>\n",
       "      <td>91000</td>\n",
       "    </tr>\n",
       "    <tr>\n",
       "      <th>635</th>\n",
       "      <td>A Life of Happiness and Fulfillment</td>\n",
       "      <td>Indian School of Business</td>\n",
       "      <td>COURSE</td>\n",
       "      <td>4.8</td>\n",
       "      <td>Mixed</td>\n",
       "      <td>320000</td>\n",
       "    </tr>\n",
       "  </tbody>\n",
       "</table>\n",
       "</div>"
      ],
      "text/plain": [
       "                                          course_title  \\\n",
       "134  (ISC)² Systems Security Certified Practitioner...   \n",
       "743  A Crash Course in Causality:  Inferring Causal...   \n",
       "874                     A Crash Course in Data Science   \n",
       "413                            A Law Student's Toolkit   \n",
       "635                A Life of Happiness and Fulfillment   \n",
       "\n",
       "            course_organization course_Certificate_type  course_rating  \\\n",
       "134                      (ISC)²          SPECIALIZATION            4.7   \n",
       "743  University of Pennsylvania                  COURSE            4.7   \n",
       "874    Johns Hopkins University                  COURSE            4.5   \n",
       "413             Yale University                  COURSE            4.7   \n",
       "635   Indian School of Business                  COURSE            4.8   \n",
       "\n",
       "    course_difficulty  course_students_enrolled  \n",
       "134          Beginner                      5300  \n",
       "743      Intermediate                     17000  \n",
       "874             Mixed                    130000  \n",
       "413             Mixed                     91000  \n",
       "635             Mixed                    320000  "
      ]
     },
     "execution_count": 16,
     "metadata": {},
     "output_type": "execute_result"
    }
   ],
   "source": [
    "# Changing enrolled student data to int\n",
    "students = []\n",
    "for i in coursera_data[\"course_students_enrolled\"]:\n",
    "    if \"k\" in i:\n",
    "        # Replace 'k' with '' and multiply by 1000\n",
    "        new_value = float(i.replace(\"k\",\"\")) * 1000\n",
    "    elif \"m\" in i:\n",
    "        # Replace 'm' with '' and multiply by 1,000,000\n",
    "        new_value = float(i.replace(\"m\",\"\")) * 1000000\n",
    "    else:\n",
    "        new_value = i\n",
    "    students.append(int(new_value))\n",
    "\n",
    "coursera_data[\"course_students_enrolled\"] = students\n",
    "coursera_data.head()"
   ]
  },
  {
   "cell_type": "code",
   "execution_count": 68,
   "metadata": {},
   "outputs": [
    {
     "data": {
      "application/vnd.plotly.v1+json": {
       "config": {
        "plotlyServerURL": "https://plot.ly"
       },
       "data": [
        {
         "alignmentgroup": "True",
         "hovertemplate": "course_difficulty=%{x}<br>course_students_enrolled=%{text}<extra></extra>",
         "legendgroup": "Advanced",
         "marker": {
          "color": "rgb(255,255,204)",
          "pattern": {
           "shape": ""
          }
         },
         "name": "Advanced",
         "offsetgroup": "Advanced",
         "orientation": "v",
         "showlegend": true,
         "text": [
          66547
         ],
         "textposition": "outside",
         "type": "bar",
         "x": [
          "Advanced"
         ],
         "xaxis": "x",
         "y": [
          66547
         ],
         "yaxis": "y"
        },
        {
         "alignmentgroup": "True",
         "hovertemplate": "course_difficulty=%{x}<br>course_students_enrolled=%{text}<extra></extra>",
         "legendgroup": "Beginner",
         "marker": {
          "color": "rgb(255,237,160)",
          "pattern": {
           "shape": ""
          }
         },
         "name": "Beginner",
         "offsetgroup": "Beginner",
         "orientation": "v",
         "showlegend": true,
         "text": [
          81974
         ],
         "textposition": "outside",
         "type": "bar",
         "x": [
          "Beginner"
         ],
         "xaxis": "x",
         "y": [
          81974
         ],
         "yaxis": "y"
        },
        {
         "alignmentgroup": "True",
         "hovertemplate": "course_difficulty=%{x}<br>course_students_enrolled=%{text}<extra></extra>",
         "legendgroup": "Intermediate",
         "marker": {
          "color": "rgb(254,217,118)",
          "pattern": {
           "shape": ""
          }
         },
         "name": "Intermediate",
         "offsetgroup": "Intermediate",
         "orientation": "v",
         "showlegend": true,
         "text": [
          73264
         ],
         "textposition": "outside",
         "type": "bar",
         "x": [
          "Intermediate"
         ],
         "xaxis": "x",
         "y": [
          73264
         ],
         "yaxis": "y"
        },
        {
         "alignmentgroup": "True",
         "hovertemplate": "course_difficulty=%{x}<br>course_students_enrolled=%{text}<extra></extra>",
         "legendgroup": "Mixed",
         "marker": {
          "color": "rgb(254,178,76)",
          "pattern": {
           "shape": ""
          }
         },
         "name": "Mixed",
         "offsetgroup": "Mixed",
         "orientation": "v",
         "showlegend": true,
         "text": [
          133633
         ],
         "textposition": "outside",
         "type": "bar",
         "x": [
          "Mixed"
         ],
         "xaxis": "x",
         "y": [
          133633
         ],
         "yaxis": "y"
        }
       ],
       "layout": {
        "barmode": "relative",
        "legend": {
         "title": {
          "text": "course_difficulty"
         },
         "tracegroupgap": 0
        },
        "margin": {
         "t": 60
        },
        "showlegend": false,
        "template": {
         "data": {
          "bar": [
           {
            "error_x": {
             "color": "#2a3f5f"
            },
            "error_y": {
             "color": "#2a3f5f"
            },
            "marker": {
             "line": {
              "color": "#E5ECF6",
              "width": 0.5
             },
             "pattern": {
              "fillmode": "overlay",
              "size": 10,
              "solidity": 0.2
             }
            },
            "type": "bar"
           }
          ],
          "barpolar": [
           {
            "marker": {
             "line": {
              "color": "#E5ECF6",
              "width": 0.5
             },
             "pattern": {
              "fillmode": "overlay",
              "size": 10,
              "solidity": 0.2
             }
            },
            "type": "barpolar"
           }
          ],
          "carpet": [
           {
            "aaxis": {
             "endlinecolor": "#2a3f5f",
             "gridcolor": "white",
             "linecolor": "white",
             "minorgridcolor": "white",
             "startlinecolor": "#2a3f5f"
            },
            "baxis": {
             "endlinecolor": "#2a3f5f",
             "gridcolor": "white",
             "linecolor": "white",
             "minorgridcolor": "white",
             "startlinecolor": "#2a3f5f"
            },
            "type": "carpet"
           }
          ],
          "choropleth": [
           {
            "colorbar": {
             "outlinewidth": 0,
             "ticks": ""
            },
            "type": "choropleth"
           }
          ],
          "contour": [
           {
            "colorbar": {
             "outlinewidth": 0,
             "ticks": ""
            },
            "colorscale": [
             [
              0,
              "#0d0887"
             ],
             [
              0.1111111111111111,
              "#46039f"
             ],
             [
              0.2222222222222222,
              "#7201a8"
             ],
             [
              0.3333333333333333,
              "#9c179e"
             ],
             [
              0.4444444444444444,
              "#bd3786"
             ],
             [
              0.5555555555555556,
              "#d8576b"
             ],
             [
              0.6666666666666666,
              "#ed7953"
             ],
             [
              0.7777777777777778,
              "#fb9f3a"
             ],
             [
              0.8888888888888888,
              "#fdca26"
             ],
             [
              1,
              "#f0f921"
             ]
            ],
            "type": "contour"
           }
          ],
          "contourcarpet": [
           {
            "colorbar": {
             "outlinewidth": 0,
             "ticks": ""
            },
            "type": "contourcarpet"
           }
          ],
          "heatmap": [
           {
            "colorbar": {
             "outlinewidth": 0,
             "ticks": ""
            },
            "colorscale": [
             [
              0,
              "#0d0887"
             ],
             [
              0.1111111111111111,
              "#46039f"
             ],
             [
              0.2222222222222222,
              "#7201a8"
             ],
             [
              0.3333333333333333,
              "#9c179e"
             ],
             [
              0.4444444444444444,
              "#bd3786"
             ],
             [
              0.5555555555555556,
              "#d8576b"
             ],
             [
              0.6666666666666666,
              "#ed7953"
             ],
             [
              0.7777777777777778,
              "#fb9f3a"
             ],
             [
              0.8888888888888888,
              "#fdca26"
             ],
             [
              1,
              "#f0f921"
             ]
            ],
            "type": "heatmap"
           }
          ],
          "heatmapgl": [
           {
            "colorbar": {
             "outlinewidth": 0,
             "ticks": ""
            },
            "colorscale": [
             [
              0,
              "#0d0887"
             ],
             [
              0.1111111111111111,
              "#46039f"
             ],
             [
              0.2222222222222222,
              "#7201a8"
             ],
             [
              0.3333333333333333,
              "#9c179e"
             ],
             [
              0.4444444444444444,
              "#bd3786"
             ],
             [
              0.5555555555555556,
              "#d8576b"
             ],
             [
              0.6666666666666666,
              "#ed7953"
             ],
             [
              0.7777777777777778,
              "#fb9f3a"
             ],
             [
              0.8888888888888888,
              "#fdca26"
             ],
             [
              1,
              "#f0f921"
             ]
            ],
            "type": "heatmapgl"
           }
          ],
          "histogram": [
           {
            "marker": {
             "pattern": {
              "fillmode": "overlay",
              "size": 10,
              "solidity": 0.2
             }
            },
            "type": "histogram"
           }
          ],
          "histogram2d": [
           {
            "colorbar": {
             "outlinewidth": 0,
             "ticks": ""
            },
            "colorscale": [
             [
              0,
              "#0d0887"
             ],
             [
              0.1111111111111111,
              "#46039f"
             ],
             [
              0.2222222222222222,
              "#7201a8"
             ],
             [
              0.3333333333333333,
              "#9c179e"
             ],
             [
              0.4444444444444444,
              "#bd3786"
             ],
             [
              0.5555555555555556,
              "#d8576b"
             ],
             [
              0.6666666666666666,
              "#ed7953"
             ],
             [
              0.7777777777777778,
              "#fb9f3a"
             ],
             [
              0.8888888888888888,
              "#fdca26"
             ],
             [
              1,
              "#f0f921"
             ]
            ],
            "type": "histogram2d"
           }
          ],
          "histogram2dcontour": [
           {
            "colorbar": {
             "outlinewidth": 0,
             "ticks": ""
            },
            "colorscale": [
             [
              0,
              "#0d0887"
             ],
             [
              0.1111111111111111,
              "#46039f"
             ],
             [
              0.2222222222222222,
              "#7201a8"
             ],
             [
              0.3333333333333333,
              "#9c179e"
             ],
             [
              0.4444444444444444,
              "#bd3786"
             ],
             [
              0.5555555555555556,
              "#d8576b"
             ],
             [
              0.6666666666666666,
              "#ed7953"
             ],
             [
              0.7777777777777778,
              "#fb9f3a"
             ],
             [
              0.8888888888888888,
              "#fdca26"
             ],
             [
              1,
              "#f0f921"
             ]
            ],
            "type": "histogram2dcontour"
           }
          ],
          "mesh3d": [
           {
            "colorbar": {
             "outlinewidth": 0,
             "ticks": ""
            },
            "type": "mesh3d"
           }
          ],
          "parcoords": [
           {
            "line": {
             "colorbar": {
              "outlinewidth": 0,
              "ticks": ""
             }
            },
            "type": "parcoords"
           }
          ],
          "pie": [
           {
            "automargin": true,
            "type": "pie"
           }
          ],
          "scatter": [
           {
            "fillpattern": {
             "fillmode": "overlay",
             "size": 10,
             "solidity": 0.2
            },
            "type": "scatter"
           }
          ],
          "scatter3d": [
           {
            "line": {
             "colorbar": {
              "outlinewidth": 0,
              "ticks": ""
             }
            },
            "marker": {
             "colorbar": {
              "outlinewidth": 0,
              "ticks": ""
             }
            },
            "type": "scatter3d"
           }
          ],
          "scattercarpet": [
           {
            "marker": {
             "colorbar": {
              "outlinewidth": 0,
              "ticks": ""
             }
            },
            "type": "scattercarpet"
           }
          ],
          "scattergeo": [
           {
            "marker": {
             "colorbar": {
              "outlinewidth": 0,
              "ticks": ""
             }
            },
            "type": "scattergeo"
           }
          ],
          "scattergl": [
           {
            "marker": {
             "colorbar": {
              "outlinewidth": 0,
              "ticks": ""
             }
            },
            "type": "scattergl"
           }
          ],
          "scattermapbox": [
           {
            "marker": {
             "colorbar": {
              "outlinewidth": 0,
              "ticks": ""
             }
            },
            "type": "scattermapbox"
           }
          ],
          "scatterpolar": [
           {
            "marker": {
             "colorbar": {
              "outlinewidth": 0,
              "ticks": ""
             }
            },
            "type": "scatterpolar"
           }
          ],
          "scatterpolargl": [
           {
            "marker": {
             "colorbar": {
              "outlinewidth": 0,
              "ticks": ""
             }
            },
            "type": "scatterpolargl"
           }
          ],
          "scatterternary": [
           {
            "marker": {
             "colorbar": {
              "outlinewidth": 0,
              "ticks": ""
             }
            },
            "type": "scatterternary"
           }
          ],
          "surface": [
           {
            "colorbar": {
             "outlinewidth": 0,
             "ticks": ""
            },
            "colorscale": [
             [
              0,
              "#0d0887"
             ],
             [
              0.1111111111111111,
              "#46039f"
             ],
             [
              0.2222222222222222,
              "#7201a8"
             ],
             [
              0.3333333333333333,
              "#9c179e"
             ],
             [
              0.4444444444444444,
              "#bd3786"
             ],
             [
              0.5555555555555556,
              "#d8576b"
             ],
             [
              0.6666666666666666,
              "#ed7953"
             ],
             [
              0.7777777777777778,
              "#fb9f3a"
             ],
             [
              0.8888888888888888,
              "#fdca26"
             ],
             [
              1,
              "#f0f921"
             ]
            ],
            "type": "surface"
           }
          ],
          "table": [
           {
            "cells": {
             "fill": {
              "color": "#EBF0F8"
             },
             "line": {
              "color": "white"
             }
            },
            "header": {
             "fill": {
              "color": "#C8D4E3"
             },
             "line": {
              "color": "white"
             }
            },
            "type": "table"
           }
          ]
         },
         "layout": {
          "annotationdefaults": {
           "arrowcolor": "#2a3f5f",
           "arrowhead": 0,
           "arrowwidth": 1
          },
          "autotypenumbers": "strict",
          "coloraxis": {
           "colorbar": {
            "outlinewidth": 0,
            "ticks": ""
           }
          },
          "colorscale": {
           "diverging": [
            [
             0,
             "#8e0152"
            ],
            [
             0.1,
             "#c51b7d"
            ],
            [
             0.2,
             "#de77ae"
            ],
            [
             0.3,
             "#f1b6da"
            ],
            [
             0.4,
             "#fde0ef"
            ],
            [
             0.5,
             "#f7f7f7"
            ],
            [
             0.6,
             "#e6f5d0"
            ],
            [
             0.7,
             "#b8e186"
            ],
            [
             0.8,
             "#7fbc41"
            ],
            [
             0.9,
             "#4d9221"
            ],
            [
             1,
             "#276419"
            ]
           ],
           "sequential": [
            [
             0,
             "#0d0887"
            ],
            [
             0.1111111111111111,
             "#46039f"
            ],
            [
             0.2222222222222222,
             "#7201a8"
            ],
            [
             0.3333333333333333,
             "#9c179e"
            ],
            [
             0.4444444444444444,
             "#bd3786"
            ],
            [
             0.5555555555555556,
             "#d8576b"
            ],
            [
             0.6666666666666666,
             "#ed7953"
            ],
            [
             0.7777777777777778,
             "#fb9f3a"
            ],
            [
             0.8888888888888888,
             "#fdca26"
            ],
            [
             1,
             "#f0f921"
            ]
           ],
           "sequentialminus": [
            [
             0,
             "#0d0887"
            ],
            [
             0.1111111111111111,
             "#46039f"
            ],
            [
             0.2222222222222222,
             "#7201a8"
            ],
            [
             0.3333333333333333,
             "#9c179e"
            ],
            [
             0.4444444444444444,
             "#bd3786"
            ],
            [
             0.5555555555555556,
             "#d8576b"
            ],
            [
             0.6666666666666666,
             "#ed7953"
            ],
            [
             0.7777777777777778,
             "#fb9f3a"
            ],
            [
             0.8888888888888888,
             "#fdca26"
            ],
            [
             1,
             "#f0f921"
            ]
           ]
          },
          "colorway": [
           "#636efa",
           "#EF553B",
           "#00cc96",
           "#ab63fa",
           "#FFA15A",
           "#19d3f3",
           "#FF6692",
           "#B6E880",
           "#FF97FF",
           "#FECB52"
          ],
          "font": {
           "color": "#2a3f5f"
          },
          "geo": {
           "bgcolor": "white",
           "lakecolor": "white",
           "landcolor": "#E5ECF6",
           "showlakes": true,
           "showland": true,
           "subunitcolor": "white"
          },
          "hoverlabel": {
           "align": "left"
          },
          "hovermode": "closest",
          "mapbox": {
           "style": "light"
          },
          "paper_bgcolor": "white",
          "plot_bgcolor": "#E5ECF6",
          "polar": {
           "angularaxis": {
            "gridcolor": "white",
            "linecolor": "white",
            "ticks": ""
           },
           "bgcolor": "#E5ECF6",
           "radialaxis": {
            "gridcolor": "white",
            "linecolor": "white",
            "ticks": ""
           }
          },
          "scene": {
           "xaxis": {
            "backgroundcolor": "#E5ECF6",
            "gridcolor": "white",
            "gridwidth": 2,
            "linecolor": "white",
            "showbackground": true,
            "ticks": "",
            "zerolinecolor": "white"
           },
           "yaxis": {
            "backgroundcolor": "#E5ECF6",
            "gridcolor": "white",
            "gridwidth": 2,
            "linecolor": "white",
            "showbackground": true,
            "ticks": "",
            "zerolinecolor": "white"
           },
           "zaxis": {
            "backgroundcolor": "#E5ECF6",
            "gridcolor": "white",
            "gridwidth": 2,
            "linecolor": "white",
            "showbackground": true,
            "ticks": "",
            "zerolinecolor": "white"
           }
          },
          "shapedefaults": {
           "line": {
            "color": "#2a3f5f"
           }
          },
          "ternary": {
           "aaxis": {
            "gridcolor": "white",
            "linecolor": "white",
            "ticks": ""
           },
           "baxis": {
            "gridcolor": "white",
            "linecolor": "white",
            "ticks": ""
           },
           "bgcolor": "#E5ECF6",
           "caxis": {
            "gridcolor": "white",
            "linecolor": "white",
            "ticks": ""
           }
          },
          "title": {
           "x": 0.05
          },
          "xaxis": {
           "automargin": true,
           "gridcolor": "white",
           "linecolor": "white",
           "ticks": "",
           "title": {
            "standoff": 15
           },
           "zerolinecolor": "white",
           "zerolinewidth": 2
          },
          "yaxis": {
           "automargin": true,
           "gridcolor": "white",
           "linecolor": "white",
           "ticks": "",
           "title": {
            "standoff": 15
           },
           "zerolinecolor": "white",
           "zerolinewidth": 2
          }
         }
        },
        "title": {
         "text": "Average Number of Students by Difficulty Level"
        },
        "width": 800,
        "xaxis": {
         "anchor": "y",
         "categoryarray": [
          "Advanced",
          "Beginner",
          "Intermediate",
          "Mixed"
         ],
         "categoryorder": "array",
         "domain": [
          0,
          1
         ],
         "title": {
          "text": "Course Difficulty"
         }
        },
        "yaxis": {
         "anchor": "x",
         "domain": [
          0,
          1
         ],
         "title": {
          "text": "Student Number"
         }
        }
       }
      }
     },
     "metadata": {},
     "output_type": "display_data"
    }
   ],
   "source": [
    "# Calculate the average student number per difficulty level\n",
    "students_by_diff = coursera_data.groupby(\"course_difficulty\")[\"course_students_enrolled\"].mean().reset_index()\n",
    "students_by_diff[\"course_students_enrolled\"] = students_by_diff[\"course_students_enrolled\"].astype(int)\n",
    "fig = px.bar(students_by_diff, \n",
    "             x=\"course_difficulty\", \n",
    "             y=\"course_students_enrolled\", \n",
    "             color=\"course_difficulty\",\n",
    "             color_discrete_sequence=px.colors.sequential.YlOrRd,\n",
    "             text=\"course_students_enrolled\")\n",
    "\n",
    "fig.update_layout(\n",
    "    title=\"Average Number of Students by Difficulty Level\", \n",
    "    xaxis_title=\"Course Difficulty\", \n",
    "    yaxis_title=\"Student Number\", \n",
    "    showlegend=False,\n",
    "    width=800)\n",
    "fig.update_traces(textposition='outside')\n",
    "fig.show()"
   ]
  },
  {
   "cell_type": "markdown",
   "metadata": {},
   "source": [
    "- Beginner-level courses have more students enrolled compared to intermediate or advanced courses.\n",
    "- Considering the number of courses per Difficulty, the number of students is more balanced.\n",
    "- The highest number of students are in the Mixed courses, a probable reason is that these courses can be fitting for different levels, so more people are interested.\n",
    "- This data shows that probably there is a need for more Intermediate and Advanced courses."
   ]
  },
  {
   "cell_type": "markdown",
   "metadata": {},
   "source": [
    "### Course Enrollment and Certificate type"
   ]
  },
  {
   "cell_type": "code",
   "execution_count": 73,
   "metadata": {},
   "outputs": [
    {
     "data": {
      "application/vnd.plotly.v1+json": {
       "config": {
        "plotlyServerURL": "https://plot.ly"
       },
       "data": [
        {
         "alignmentgroup": "True",
         "hovertemplate": "course_Certificate_type=%{x}<br>course_students_enrolled=%{text}<extra></extra>",
         "legendgroup": "COURSE",
         "marker": {
          "color": "rgb(255,255,204)",
          "pattern": {
           "shape": ""
          }
         },
         "name": "COURSE",
         "offsetgroup": "COURSE",
         "orientation": "v",
         "showlegend": true,
         "text": [
          87854
         ],
         "textposition": "outside",
         "type": "bar",
         "x": [
          "COURSE"
         ],
         "xaxis": "x",
         "y": [
          87854
         ],
         "yaxis": "y"
        },
        {
         "alignmentgroup": "True",
         "hovertemplate": "course_Certificate_type=%{x}<br>course_students_enrolled=%{text}<extra></extra>",
         "legendgroup": "PROFESSIONAL CERTIFICATE",
         "marker": {
          "color": "rgb(255,237,160)",
          "pattern": {
           "shape": ""
          }
         },
         "name": "PROFESSIONAL CERTIFICATE",
         "offsetgroup": "PROFESSIONAL CERTIFICATE",
         "orientation": "v",
         "showlegend": true,
         "text": [
          190700
         ],
         "textposition": "outside",
         "type": "bar",
         "x": [
          "PROFESSIONAL CERTIFICATE"
         ],
         "xaxis": "x",
         "y": [
          190700
         ],
         "yaxis": "y"
        },
        {
         "alignmentgroup": "True",
         "hovertemplate": "course_Certificate_type=%{x}<br>course_students_enrolled=%{text}<extra></extra>",
         "legendgroup": "SPECIALIZATION",
         "marker": {
          "color": "rgb(254,217,118)",
          "pattern": {
           "shape": ""
          }
         },
         "name": "SPECIALIZATION",
         "offsetgroup": "SPECIALIZATION",
         "orientation": "v",
         "showlegend": true,
         "text": [
          91791
         ],
         "textposition": "outside",
         "type": "bar",
         "x": [
          "SPECIALIZATION"
         ],
         "xaxis": "x",
         "y": [
          91791
         ],
         "yaxis": "y"
        }
       ],
       "layout": {
        "barmode": "relative",
        "legend": {
         "title": {
          "text": "course_Certificate_type"
         },
         "tracegroupgap": 0
        },
        "margin": {
         "t": 60
        },
        "showlegend": false,
        "template": {
         "data": {
          "bar": [
           {
            "error_x": {
             "color": "#2a3f5f"
            },
            "error_y": {
             "color": "#2a3f5f"
            },
            "marker": {
             "line": {
              "color": "#E5ECF6",
              "width": 0.5
             },
             "pattern": {
              "fillmode": "overlay",
              "size": 10,
              "solidity": 0.2
             }
            },
            "type": "bar"
           }
          ],
          "barpolar": [
           {
            "marker": {
             "line": {
              "color": "#E5ECF6",
              "width": 0.5
             },
             "pattern": {
              "fillmode": "overlay",
              "size": 10,
              "solidity": 0.2
             }
            },
            "type": "barpolar"
           }
          ],
          "carpet": [
           {
            "aaxis": {
             "endlinecolor": "#2a3f5f",
             "gridcolor": "white",
             "linecolor": "white",
             "minorgridcolor": "white",
             "startlinecolor": "#2a3f5f"
            },
            "baxis": {
             "endlinecolor": "#2a3f5f",
             "gridcolor": "white",
             "linecolor": "white",
             "minorgridcolor": "white",
             "startlinecolor": "#2a3f5f"
            },
            "type": "carpet"
           }
          ],
          "choropleth": [
           {
            "colorbar": {
             "outlinewidth": 0,
             "ticks": ""
            },
            "type": "choropleth"
           }
          ],
          "contour": [
           {
            "colorbar": {
             "outlinewidth": 0,
             "ticks": ""
            },
            "colorscale": [
             [
              0,
              "#0d0887"
             ],
             [
              0.1111111111111111,
              "#46039f"
             ],
             [
              0.2222222222222222,
              "#7201a8"
             ],
             [
              0.3333333333333333,
              "#9c179e"
             ],
             [
              0.4444444444444444,
              "#bd3786"
             ],
             [
              0.5555555555555556,
              "#d8576b"
             ],
             [
              0.6666666666666666,
              "#ed7953"
             ],
             [
              0.7777777777777778,
              "#fb9f3a"
             ],
             [
              0.8888888888888888,
              "#fdca26"
             ],
             [
              1,
              "#f0f921"
             ]
            ],
            "type": "contour"
           }
          ],
          "contourcarpet": [
           {
            "colorbar": {
             "outlinewidth": 0,
             "ticks": ""
            },
            "type": "contourcarpet"
           }
          ],
          "heatmap": [
           {
            "colorbar": {
             "outlinewidth": 0,
             "ticks": ""
            },
            "colorscale": [
             [
              0,
              "#0d0887"
             ],
             [
              0.1111111111111111,
              "#46039f"
             ],
             [
              0.2222222222222222,
              "#7201a8"
             ],
             [
              0.3333333333333333,
              "#9c179e"
             ],
             [
              0.4444444444444444,
              "#bd3786"
             ],
             [
              0.5555555555555556,
              "#d8576b"
             ],
             [
              0.6666666666666666,
              "#ed7953"
             ],
             [
              0.7777777777777778,
              "#fb9f3a"
             ],
             [
              0.8888888888888888,
              "#fdca26"
             ],
             [
              1,
              "#f0f921"
             ]
            ],
            "type": "heatmap"
           }
          ],
          "heatmapgl": [
           {
            "colorbar": {
             "outlinewidth": 0,
             "ticks": ""
            },
            "colorscale": [
             [
              0,
              "#0d0887"
             ],
             [
              0.1111111111111111,
              "#46039f"
             ],
             [
              0.2222222222222222,
              "#7201a8"
             ],
             [
              0.3333333333333333,
              "#9c179e"
             ],
             [
              0.4444444444444444,
              "#bd3786"
             ],
             [
              0.5555555555555556,
              "#d8576b"
             ],
             [
              0.6666666666666666,
              "#ed7953"
             ],
             [
              0.7777777777777778,
              "#fb9f3a"
             ],
             [
              0.8888888888888888,
              "#fdca26"
             ],
             [
              1,
              "#f0f921"
             ]
            ],
            "type": "heatmapgl"
           }
          ],
          "histogram": [
           {
            "marker": {
             "pattern": {
              "fillmode": "overlay",
              "size": 10,
              "solidity": 0.2
             }
            },
            "type": "histogram"
           }
          ],
          "histogram2d": [
           {
            "colorbar": {
             "outlinewidth": 0,
             "ticks": ""
            },
            "colorscale": [
             [
              0,
              "#0d0887"
             ],
             [
              0.1111111111111111,
              "#46039f"
             ],
             [
              0.2222222222222222,
              "#7201a8"
             ],
             [
              0.3333333333333333,
              "#9c179e"
             ],
             [
              0.4444444444444444,
              "#bd3786"
             ],
             [
              0.5555555555555556,
              "#d8576b"
             ],
             [
              0.6666666666666666,
              "#ed7953"
             ],
             [
              0.7777777777777778,
              "#fb9f3a"
             ],
             [
              0.8888888888888888,
              "#fdca26"
             ],
             [
              1,
              "#f0f921"
             ]
            ],
            "type": "histogram2d"
           }
          ],
          "histogram2dcontour": [
           {
            "colorbar": {
             "outlinewidth": 0,
             "ticks": ""
            },
            "colorscale": [
             [
              0,
              "#0d0887"
             ],
             [
              0.1111111111111111,
              "#46039f"
             ],
             [
              0.2222222222222222,
              "#7201a8"
             ],
             [
              0.3333333333333333,
              "#9c179e"
             ],
             [
              0.4444444444444444,
              "#bd3786"
             ],
             [
              0.5555555555555556,
              "#d8576b"
             ],
             [
              0.6666666666666666,
              "#ed7953"
             ],
             [
              0.7777777777777778,
              "#fb9f3a"
             ],
             [
              0.8888888888888888,
              "#fdca26"
             ],
             [
              1,
              "#f0f921"
             ]
            ],
            "type": "histogram2dcontour"
           }
          ],
          "mesh3d": [
           {
            "colorbar": {
             "outlinewidth": 0,
             "ticks": ""
            },
            "type": "mesh3d"
           }
          ],
          "parcoords": [
           {
            "line": {
             "colorbar": {
              "outlinewidth": 0,
              "ticks": ""
             }
            },
            "type": "parcoords"
           }
          ],
          "pie": [
           {
            "automargin": true,
            "type": "pie"
           }
          ],
          "scatter": [
           {
            "fillpattern": {
             "fillmode": "overlay",
             "size": 10,
             "solidity": 0.2
            },
            "type": "scatter"
           }
          ],
          "scatter3d": [
           {
            "line": {
             "colorbar": {
              "outlinewidth": 0,
              "ticks": ""
             }
            },
            "marker": {
             "colorbar": {
              "outlinewidth": 0,
              "ticks": ""
             }
            },
            "type": "scatter3d"
           }
          ],
          "scattercarpet": [
           {
            "marker": {
             "colorbar": {
              "outlinewidth": 0,
              "ticks": ""
             }
            },
            "type": "scattercarpet"
           }
          ],
          "scattergeo": [
           {
            "marker": {
             "colorbar": {
              "outlinewidth": 0,
              "ticks": ""
             }
            },
            "type": "scattergeo"
           }
          ],
          "scattergl": [
           {
            "marker": {
             "colorbar": {
              "outlinewidth": 0,
              "ticks": ""
             }
            },
            "type": "scattergl"
           }
          ],
          "scattermapbox": [
           {
            "marker": {
             "colorbar": {
              "outlinewidth": 0,
              "ticks": ""
             }
            },
            "type": "scattermapbox"
           }
          ],
          "scatterpolar": [
           {
            "marker": {
             "colorbar": {
              "outlinewidth": 0,
              "ticks": ""
             }
            },
            "type": "scatterpolar"
           }
          ],
          "scatterpolargl": [
           {
            "marker": {
             "colorbar": {
              "outlinewidth": 0,
              "ticks": ""
             }
            },
            "type": "scatterpolargl"
           }
          ],
          "scatterternary": [
           {
            "marker": {
             "colorbar": {
              "outlinewidth": 0,
              "ticks": ""
             }
            },
            "type": "scatterternary"
           }
          ],
          "surface": [
           {
            "colorbar": {
             "outlinewidth": 0,
             "ticks": ""
            },
            "colorscale": [
             [
              0,
              "#0d0887"
             ],
             [
              0.1111111111111111,
              "#46039f"
             ],
             [
              0.2222222222222222,
              "#7201a8"
             ],
             [
              0.3333333333333333,
              "#9c179e"
             ],
             [
              0.4444444444444444,
              "#bd3786"
             ],
             [
              0.5555555555555556,
              "#d8576b"
             ],
             [
              0.6666666666666666,
              "#ed7953"
             ],
             [
              0.7777777777777778,
              "#fb9f3a"
             ],
             [
              0.8888888888888888,
              "#fdca26"
             ],
             [
              1,
              "#f0f921"
             ]
            ],
            "type": "surface"
           }
          ],
          "table": [
           {
            "cells": {
             "fill": {
              "color": "#EBF0F8"
             },
             "line": {
              "color": "white"
             }
            },
            "header": {
             "fill": {
              "color": "#C8D4E3"
             },
             "line": {
              "color": "white"
             }
            },
            "type": "table"
           }
          ]
         },
         "layout": {
          "annotationdefaults": {
           "arrowcolor": "#2a3f5f",
           "arrowhead": 0,
           "arrowwidth": 1
          },
          "autotypenumbers": "strict",
          "coloraxis": {
           "colorbar": {
            "outlinewidth": 0,
            "ticks": ""
           }
          },
          "colorscale": {
           "diverging": [
            [
             0,
             "#8e0152"
            ],
            [
             0.1,
             "#c51b7d"
            ],
            [
             0.2,
             "#de77ae"
            ],
            [
             0.3,
             "#f1b6da"
            ],
            [
             0.4,
             "#fde0ef"
            ],
            [
             0.5,
             "#f7f7f7"
            ],
            [
             0.6,
             "#e6f5d0"
            ],
            [
             0.7,
             "#b8e186"
            ],
            [
             0.8,
             "#7fbc41"
            ],
            [
             0.9,
             "#4d9221"
            ],
            [
             1,
             "#276419"
            ]
           ],
           "sequential": [
            [
             0,
             "#0d0887"
            ],
            [
             0.1111111111111111,
             "#46039f"
            ],
            [
             0.2222222222222222,
             "#7201a8"
            ],
            [
             0.3333333333333333,
             "#9c179e"
            ],
            [
             0.4444444444444444,
             "#bd3786"
            ],
            [
             0.5555555555555556,
             "#d8576b"
            ],
            [
             0.6666666666666666,
             "#ed7953"
            ],
            [
             0.7777777777777778,
             "#fb9f3a"
            ],
            [
             0.8888888888888888,
             "#fdca26"
            ],
            [
             1,
             "#f0f921"
            ]
           ],
           "sequentialminus": [
            [
             0,
             "#0d0887"
            ],
            [
             0.1111111111111111,
             "#46039f"
            ],
            [
             0.2222222222222222,
             "#7201a8"
            ],
            [
             0.3333333333333333,
             "#9c179e"
            ],
            [
             0.4444444444444444,
             "#bd3786"
            ],
            [
             0.5555555555555556,
             "#d8576b"
            ],
            [
             0.6666666666666666,
             "#ed7953"
            ],
            [
             0.7777777777777778,
             "#fb9f3a"
            ],
            [
             0.8888888888888888,
             "#fdca26"
            ],
            [
             1,
             "#f0f921"
            ]
           ]
          },
          "colorway": [
           "#636efa",
           "#EF553B",
           "#00cc96",
           "#ab63fa",
           "#FFA15A",
           "#19d3f3",
           "#FF6692",
           "#B6E880",
           "#FF97FF",
           "#FECB52"
          ],
          "font": {
           "color": "#2a3f5f"
          },
          "geo": {
           "bgcolor": "white",
           "lakecolor": "white",
           "landcolor": "#E5ECF6",
           "showlakes": true,
           "showland": true,
           "subunitcolor": "white"
          },
          "hoverlabel": {
           "align": "left"
          },
          "hovermode": "closest",
          "mapbox": {
           "style": "light"
          },
          "paper_bgcolor": "white",
          "plot_bgcolor": "#E5ECF6",
          "polar": {
           "angularaxis": {
            "gridcolor": "white",
            "linecolor": "white",
            "ticks": ""
           },
           "bgcolor": "#E5ECF6",
           "radialaxis": {
            "gridcolor": "white",
            "linecolor": "white",
            "ticks": ""
           }
          },
          "scene": {
           "xaxis": {
            "backgroundcolor": "#E5ECF6",
            "gridcolor": "white",
            "gridwidth": 2,
            "linecolor": "white",
            "showbackground": true,
            "ticks": "",
            "zerolinecolor": "white"
           },
           "yaxis": {
            "backgroundcolor": "#E5ECF6",
            "gridcolor": "white",
            "gridwidth": 2,
            "linecolor": "white",
            "showbackground": true,
            "ticks": "",
            "zerolinecolor": "white"
           },
           "zaxis": {
            "backgroundcolor": "#E5ECF6",
            "gridcolor": "white",
            "gridwidth": 2,
            "linecolor": "white",
            "showbackground": true,
            "ticks": "",
            "zerolinecolor": "white"
           }
          },
          "shapedefaults": {
           "line": {
            "color": "#2a3f5f"
           }
          },
          "ternary": {
           "aaxis": {
            "gridcolor": "white",
            "linecolor": "white",
            "ticks": ""
           },
           "baxis": {
            "gridcolor": "white",
            "linecolor": "white",
            "ticks": ""
           },
           "bgcolor": "#E5ECF6",
           "caxis": {
            "gridcolor": "white",
            "linecolor": "white",
            "ticks": ""
           }
          },
          "title": {
           "x": 0.05
          },
          "xaxis": {
           "automargin": true,
           "gridcolor": "white",
           "linecolor": "white",
           "ticks": "",
           "title": {
            "standoff": 15
           },
           "zerolinecolor": "white",
           "zerolinewidth": 2
          },
          "yaxis": {
           "automargin": true,
           "gridcolor": "white",
           "linecolor": "white",
           "ticks": "",
           "title": {
            "standoff": 15
           },
           "zerolinecolor": "white",
           "zerolinewidth": 2
          }
         }
        },
        "title": {
         "text": "Average Number of Students by Certificate types"
        },
        "width": 800,
        "xaxis": {
         "anchor": "y",
         "categoryarray": [
          "COURSE",
          "PROFESSIONAL CERTIFICATE",
          "SPECIALIZATION"
         ],
         "categoryorder": "array",
         "domain": [
          0,
          1
         ],
         "title": {
          "text": "Certificate type"
         }
        },
        "yaxis": {
         "anchor": "x",
         "domain": [
          0,
          1
         ],
         "title": {
          "text": "Student Number"
         }
        }
       }
      }
     },
     "metadata": {},
     "output_type": "display_data"
    }
   ],
   "source": [
    "# Calculate the average student number per certificate type\n",
    "students_by_cert = coursera_data.groupby(\"course_Certificate_type\")[\"course_students_enrolled\"].mean().reset_index()\n",
    "students_by_cert[\"course_students_enrolled\"] = students_by_cert[\"course_students_enrolled\"].astype(int)\n",
    "fig = px.bar(students_by_cert, \n",
    "             x=\"course_Certificate_type\", \n",
    "             y=\"course_students_enrolled\", \n",
    "             color=\"course_Certificate_type\",\n",
    "             color_discrete_sequence=px.colors.sequential.YlOrRd,\n",
    "             text=\"course_students_enrolled\")\n",
    "\n",
    "fig.update_layout(\n",
    "    title=\"Average Number of Students by Certificate types\", \n",
    "    xaxis_title=\"Certificate type\", \n",
    "    yaxis_title=\"Student Number\", \n",
    "    showlegend=False,\n",
    "    width=800)\n",
    "fig.update_traces(textposition='outside')\n",
    "fig.show()"
   ]
  },
  {
   "cell_type": "markdown",
   "metadata": {},
   "source": [
    "The number of students is about 2x as much in other types, there is a high demand for these types of courses."
   ]
  },
  {
   "cell_type": "markdown",
   "metadata": {},
   "source": [
    "### Highest rated organizations"
   ]
  },
  {
   "cell_type": "code",
   "execution_count": 19,
   "metadata": {},
   "outputs": [
    {
     "data": {
      "text/html": [
       "<div>\n",
       "<style scoped>\n",
       "    .dataframe tbody tr th:only-of-type {\n",
       "        vertical-align: middle;\n",
       "    }\n",
       "\n",
       "    .dataframe tbody tr th {\n",
       "        vertical-align: top;\n",
       "    }\n",
       "\n",
       "    .dataframe thead th {\n",
       "        text-align: right;\n",
       "    }\n",
       "</style>\n",
       "<table border=\"1\" class=\"dataframe\">\n",
       "  <thead>\n",
       "    <tr style=\"text-align: right;\">\n",
       "      <th></th>\n",
       "      <th>avg_rating</th>\n",
       "      <th>course_count</th>\n",
       "    </tr>\n",
       "    <tr>\n",
       "      <th>course_organization</th>\n",
       "      <th></th>\n",
       "      <th></th>\n",
       "    </tr>\n",
       "  </thead>\n",
       "  <tbody>\n",
       "    <tr>\n",
       "      <th>Hebrew University of Jerusalem</th>\n",
       "      <td>4.900000</td>\n",
       "      <td>1</td>\n",
       "    </tr>\n",
       "    <tr>\n",
       "      <th>Nanyang Technological University, Singapore</th>\n",
       "      <td>4.900000</td>\n",
       "      <td>1</td>\n",
       "    </tr>\n",
       "    <tr>\n",
       "      <th>Universidade Estadual de Campinas</th>\n",
       "      <td>4.900000</td>\n",
       "      <td>1</td>\n",
       "    </tr>\n",
       "    <tr>\n",
       "      <th>Crece con Google</th>\n",
       "      <td>4.900000</td>\n",
       "      <td>1</td>\n",
       "    </tr>\n",
       "    <tr>\n",
       "      <th>London Business School</th>\n",
       "      <td>4.900000</td>\n",
       "      <td>1</td>\n",
       "    </tr>\n",
       "    <tr>\n",
       "      <th>Google - Spectrum Sharing</th>\n",
       "      <td>4.900000</td>\n",
       "      <td>1</td>\n",
       "    </tr>\n",
       "    <tr>\n",
       "      <th>ScrumTrek</th>\n",
       "      <td>4.900000</td>\n",
       "      <td>1</td>\n",
       "    </tr>\n",
       "    <tr>\n",
       "      <th>Universidade de São Paulo</th>\n",
       "      <td>4.866667</td>\n",
       "      <td>3</td>\n",
       "    </tr>\n",
       "    <tr>\n",
       "      <th>The University of Chicago</th>\n",
       "      <td>4.850000</td>\n",
       "      <td>2</td>\n",
       "    </tr>\n",
       "    <tr>\n",
       "      <th>Universidad de los Andes</th>\n",
       "      <td>4.820000</td>\n",
       "      <td>5</td>\n",
       "    </tr>\n",
       "  </tbody>\n",
       "</table>\n",
       "</div>"
      ],
      "text/plain": [
       "                                             avg_rating  course_count\n",
       "course_organization                                                  \n",
       "Hebrew University of Jerusalem                 4.900000             1\n",
       "Nanyang Technological University, Singapore    4.900000             1\n",
       "Universidade Estadual de Campinas              4.900000             1\n",
       "Crece con Google                               4.900000             1\n",
       "London Business School                         4.900000             1\n",
       "Google - Spectrum Sharing                      4.900000             1\n",
       "ScrumTrek                                      4.900000             1\n",
       "Universidade de São Paulo                      4.866667             3\n",
       "The University of Chicago                      4.850000             2\n",
       "Universidad de los Andes                       4.820000             5"
      ]
     },
     "execution_count": 19,
     "metadata": {},
     "output_type": "execute_result"
    }
   ],
   "source": [
    "org_list = coursera_data.groupby(\"course_organization\").agg(avg_rating=(\"course_rating\",\"mean\"),course_count=(\"course_title\",\"count\")).sort_values(by=\"avg_rating\", ascending=False)\n",
    "org_list.head(10)"
   ]
  },
  {
   "cell_type": "markdown",
   "metadata": {},
   "source": [
    "There are 7 organization with an average of 4.9 rating, but only 1 course."
   ]
  },
  {
   "cell_type": "markdown",
   "metadata": {},
   "source": [
    "### Most popular organizations and courses"
   ]
  },
  {
   "cell_type": "code",
   "execution_count": 21,
   "metadata": {},
   "outputs": [
    {
     "data": {
      "text/html": [
       "<div>\n",
       "<style scoped>\n",
       "    .dataframe tbody tr th:only-of-type {\n",
       "        vertical-align: middle;\n",
       "    }\n",
       "\n",
       "    .dataframe tbody tr th {\n",
       "        vertical-align: top;\n",
       "    }\n",
       "\n",
       "    .dataframe thead th {\n",
       "        text-align: right;\n",
       "    }\n",
       "</style>\n",
       "<table border=\"1\" class=\"dataframe\">\n",
       "  <thead>\n",
       "    <tr style=\"text-align: right;\">\n",
       "      <th></th>\n",
       "      <th>students</th>\n",
       "      <th>course_count</th>\n",
       "    </tr>\n",
       "    <tr>\n",
       "      <th>course_organization</th>\n",
       "      <th></th>\n",
       "      <th></th>\n",
       "    </tr>\n",
       "  </thead>\n",
       "  <tbody>\n",
       "    <tr>\n",
       "      <th>University of Michigan</th>\n",
       "      <td>7437700</td>\n",
       "      <td>41</td>\n",
       "    </tr>\n",
       "    <tr>\n",
       "      <th>University of Pennsylvania</th>\n",
       "      <td>5501300</td>\n",
       "      <td>59</td>\n",
       "    </tr>\n",
       "    <tr>\n",
       "      <th>Stanford University</th>\n",
       "      <td>4854000</td>\n",
       "      <td>16</td>\n",
       "    </tr>\n",
       "    <tr>\n",
       "      <th>University of California, Irvine</th>\n",
       "      <td>4326000</td>\n",
       "      <td>27</td>\n",
       "    </tr>\n",
       "    <tr>\n",
       "      <th>Johns Hopkins University</th>\n",
       "      <td>4298900</td>\n",
       "      <td>28</td>\n",
       "    </tr>\n",
       "    <tr>\n",
       "      <th>Duke University</th>\n",
       "      <td>3967600</td>\n",
       "      <td>28</td>\n",
       "    </tr>\n",
       "    <tr>\n",
       "      <th>Yale University</th>\n",
       "      <td>3952000</td>\n",
       "      <td>17</td>\n",
       "    </tr>\n",
       "    <tr>\n",
       "      <th>IBM</th>\n",
       "      <td>2956400</td>\n",
       "      <td>22</td>\n",
       "    </tr>\n",
       "    <tr>\n",
       "      <th>deeplearning.ai</th>\n",
       "      <td>2863400</td>\n",
       "      <td>16</td>\n",
       "    </tr>\n",
       "    <tr>\n",
       "      <th>Google Cloud</th>\n",
       "      <td>2604300</td>\n",
       "      <td>34</td>\n",
       "    </tr>\n",
       "  </tbody>\n",
       "</table>\n",
       "</div>"
      ],
      "text/plain": [
       "                                  students  course_count\n",
       "course_organization                                     \n",
       "University of Michigan             7437700            41\n",
       "University of Pennsylvania         5501300            59\n",
       "Stanford University                4854000            16\n",
       "University of California, Irvine   4326000            27\n",
       "Johns Hopkins University           4298900            28\n",
       "Duke University                    3967600            28\n",
       "Yale University                    3952000            17\n",
       "IBM                                2956400            22\n",
       "deeplearning.ai                    2863400            16\n",
       "Google Cloud                       2604300            34"
      ]
     },
     "execution_count": 21,
     "metadata": {},
     "output_type": "execute_result"
    }
   ],
   "source": [
    "popular_org = coursera_data.groupby(\"course_organization\").agg(students=(\"course_students_enrolled\",\"sum\"),course_count=(\"course_title\",\"count\")).sort_values(by=\"students\", ascending=False)\n",
    "popular_org.head(10)\n"
   ]
  },
  {
   "cell_type": "code",
   "execution_count": 20,
   "metadata": {},
   "outputs": [
    {
     "data": {
      "text/html": [
       "<div>\n",
       "<style scoped>\n",
       "    .dataframe tbody tr th:only-of-type {\n",
       "        vertical-align: middle;\n",
       "    }\n",
       "\n",
       "    .dataframe tbody tr th {\n",
       "        vertical-align: top;\n",
       "    }\n",
       "\n",
       "    .dataframe thead th {\n",
       "        text-align: right;\n",
       "    }\n",
       "</style>\n",
       "<table border=\"1\" class=\"dataframe\">\n",
       "  <thead>\n",
       "    <tr style=\"text-align: right;\">\n",
       "      <th></th>\n",
       "      <th>course_title</th>\n",
       "      <th>course_organization</th>\n",
       "      <th>course_Certificate_type</th>\n",
       "      <th>course_rating</th>\n",
       "      <th>course_difficulty</th>\n",
       "      <th>course_students_enrolled</th>\n",
       "    </tr>\n",
       "  </thead>\n",
       "  <tbody>\n",
       "    <tr>\n",
       "      <th>6</th>\n",
       "      <td>Machine Learning</td>\n",
       "      <td>Stanford University</td>\n",
       "      <td>COURSE</td>\n",
       "      <td>4.9</td>\n",
       "      <td>Mixed</td>\n",
       "      <td>3200000</td>\n",
       "    </tr>\n",
       "    <tr>\n",
       "      <th>2</th>\n",
       "      <td>The Science of Well-Being</td>\n",
       "      <td>Yale University</td>\n",
       "      <td>COURSE</td>\n",
       "      <td>4.9</td>\n",
       "      <td>Mixed</td>\n",
       "      <td>2500000</td>\n",
       "    </tr>\n",
       "    <tr>\n",
       "      <th>3</th>\n",
       "      <td>Python for Everybody</td>\n",
       "      <td>University of Michigan</td>\n",
       "      <td>SPECIALIZATION</td>\n",
       "      <td>4.8</td>\n",
       "      <td>Beginner</td>\n",
       "      <td>1500000</td>\n",
       "    </tr>\n",
       "    <tr>\n",
       "      <th>47</th>\n",
       "      <td>Programming for Everybody (Getting Started wit...</td>\n",
       "      <td>University of Michigan</td>\n",
       "      <td>COURSE</td>\n",
       "      <td>4.8</td>\n",
       "      <td>Mixed</td>\n",
       "      <td>1300000</td>\n",
       "    </tr>\n",
       "    <tr>\n",
       "      <th>13</th>\n",
       "      <td>Data Science</td>\n",
       "      <td>Johns Hopkins University</td>\n",
       "      <td>SPECIALIZATION</td>\n",
       "      <td>4.5</td>\n",
       "      <td>Beginner</td>\n",
       "      <td>830000</td>\n",
       "    </tr>\n",
       "  </tbody>\n",
       "</table>\n",
       "</div>"
      ],
      "text/plain": [
       "                                         course_title  \\\n",
       "6                                    Machine Learning   \n",
       "2                           The Science of Well-Being   \n",
       "3                                Python for Everybody   \n",
       "47  Programming for Everybody (Getting Started wit...   \n",
       "13                                       Data Science   \n",
       "\n",
       "         course_organization course_Certificate_type  course_rating  \\\n",
       "6        Stanford University                  COURSE            4.9   \n",
       "2            Yale University                  COURSE            4.9   \n",
       "3     University of Michigan          SPECIALIZATION            4.8   \n",
       "47    University of Michigan                  COURSE            4.8   \n",
       "13  Johns Hopkins University          SPECIALIZATION            4.5   \n",
       "\n",
       "   course_difficulty  course_students_enrolled  \n",
       "6              Mixed                   3200000  \n",
       "2              Mixed                   2500000  \n",
       "3           Beginner                   1500000  \n",
       "47             Mixed                   1300000  \n",
       "13          Beginner                    830000  "
      ]
     },
     "execution_count": 20,
     "metadata": {},
     "output_type": "execute_result"
    }
   ],
   "source": [
    "sorted_course = coursera_data.sort_values(by=\"course_students_enrolled\", ascending=False)\n",
    "sorted_course.head()"
   ]
  },
  {
   "cell_type": "markdown",
   "metadata": {},
   "source": [
    "### Number of courses increases enrollment"
   ]
  },
  {
   "cell_type": "code",
   "execution_count": 22,
   "metadata": {},
   "outputs": [
    {
     "data": {
      "text/html": [
       "<div>\n",
       "<style scoped>\n",
       "    .dataframe tbody tr th:only-of-type {\n",
       "        vertical-align: middle;\n",
       "    }\n",
       "\n",
       "    .dataframe tbody tr th {\n",
       "        vertical-align: top;\n",
       "    }\n",
       "\n",
       "    .dataframe thead th {\n",
       "        text-align: right;\n",
       "    }\n",
       "</style>\n",
       "<table border=\"1\" class=\"dataframe\">\n",
       "  <thead>\n",
       "    <tr style=\"text-align: right;\">\n",
       "      <th></th>\n",
       "      <th>students</th>\n",
       "      <th>course_count</th>\n",
       "    </tr>\n",
       "  </thead>\n",
       "  <tbody>\n",
       "    <tr>\n",
       "      <th>students</th>\n",
       "      <td>1.000000</td>\n",
       "      <td>0.880679</td>\n",
       "    </tr>\n",
       "    <tr>\n",
       "      <th>course_count</th>\n",
       "      <td>0.880679</td>\n",
       "      <td>1.000000</td>\n",
       "    </tr>\n",
       "  </tbody>\n",
       "</table>\n",
       "</div>"
      ],
      "text/plain": [
       "              students  course_count\n",
       "students      1.000000      0.880679\n",
       "course_count  0.880679      1.000000"
      ]
     },
     "execution_count": 22,
     "metadata": {},
     "output_type": "execute_result"
    }
   ],
   "source": [
    "popular_org.corr()"
   ]
  },
  {
   "cell_type": "code",
   "execution_count": 60,
   "metadata": {},
   "outputs": [
    {
     "data": {
      "text/plain": [
       "Text(0.5, 1.0, 'Increase of students by courses of organizations')"
      ]
     },
     "execution_count": 60,
     "metadata": {},
     "output_type": "execute_result"
    },
    {
     "data": {
      "text/plain": [
       "<Figure size 1000x600 with 0 Axes>"
      ]
     },
     "metadata": {},
     "output_type": "display_data"
    },
    {
     "data": {
      "image/png": "[encoded data removed]",
      "text/plain": [
       "<Figure size 500x500 with 1 Axes>"
      ]
     },
     "metadata": {},
     "output_type": "display_data"
    }
   ],
   "source": [
    "plt.figure(figsize=(10,6))\n",
    "sns.set_context(\"paper\")\n",
    "sns.lmplot(x=\"course_count\", \n",
    "           y=\"students\", \n",
    "           data=popular_org, \n",
    "           line_kws={'color': 'orange'},\n",
    "           scatter_kws={'color': 'darkorange'})\n",
    "plt.xlabel(\"Number of courses\")\n",
    "plt.ylabel(\"Enrolled Students\")\n",
    "plt.title(\"Increase of students by courses of organizations\", fontsize=15)"
   ]
  },
  {
   "cell_type": "markdown",
   "metadata": {},
   "source": [
    "There is a strong correlation between the number of courses and the enrolled students. The more courses an organization has, the more student enrol to the courses. It is ideal to have a steeper line (increasing students without increasing courses)"
   ]
  },
  {
   "cell_type": "markdown",
   "metadata": {},
   "source": [
    "### Certificate Type Distribution and Ratings"
   ]
  },
  {
   "cell_type": "code",
   "execution_count": 72,
   "metadata": {},
   "outputs": [
    {
     "data": {
      "image/png": "[encoded data removed]",
      "text/plain": [
       "<Figure size 640x480 with 1 Axes>"
      ]
     },
     "metadata": {},
     "output_type": "display_data"
    }
   ],
   "source": [
    "rating_per_cert = coursera_data[\"course_rating\"].groupby(coursera_data[\"course_Certificate_type\"]).mean().sort_values(ascending=False)\n",
    "\n",
    "ax=rating_per_cert.plot.barh(color=\"darkorange\")\n",
    "plt.xlabel(\"Rating\")\n",
    "plt.ylabel(\"Certificate Type\")\n",
    "plt.title(\"Average rating of different Certificate types\", fontsize=12)\n",
    "for i in ax.containers:\n",
    "    ax.bar_label(i, fmt=\"%.2f\", label_type=\"center\")"
   ]
  },
  {
   "cell_type": "markdown",
   "metadata": {},
   "source": [
    "As mentioned before students with more knowledge and specific problems might be more critical with the course material."
   ]
  },
  {
   "cell_type": "code",
   "execution_count": 59,
   "metadata": {},
   "outputs": [
    {
     "data": {
      "text/plain": [
       "Text(0.5, 1.0, 'Enrolled Students by Certificate Types')"
      ]
     },
     "execution_count": 59,
     "metadata": {},
     "output_type": "execute_result"
    },
    {
     "data": {
      "image/png": "[encoded data removed]",
      "text/plain": [
       "<Figure size 640x480 with 1 Axes>"
      ]
     },
     "metadata": {},
     "output_type": "display_data"
    }
   ],
   "source": [
    "sns.barplot(coursera_data[\"course_students_enrolled\"].groupby(coursera_data[\"course_Certificate_type\"]).sum(),\n",
    "            color=\"darkorange\")\n",
    "plt.xlabel(\"Certificate Type\")\n",
    "plt.ylabel(\"Enrolled Students\")\n",
    "plt.title(\"Enrolled Students by Certificate Types\", fontsize=13)"
   ]
  },
  {
   "cell_type": "markdown",
   "metadata": {},
   "source": [
    "- This result is in correlation with the number of courses per Certificate types\n",
    "- There is very low number of courses with Professional certificates that causes the low number of student, even though there is higher enrollment into these courses."
   ]
  },
  {
   "cell_type": "markdown",
   "metadata": {},
   "source": [
    "# Summary\n",
    "\n",
    "- In total there are 891 courses on the platform by 154 organizations - University of Pennsylvania has the most courses (59).\n",
    "- The courses are available in 4 different difficulty levels: Beginner, Intermediate, Advanced and Mixed. Beginner takes up about half of the courses.\n",
    "- There are only 3 certificate types, Course is the most common (more than half of the courses).\n",
    "- There are only a few Advanced courses and courses offering a professional certificate, but on average they attract similar amount of students as lower level courses.\n",
    "- It appears that high rating courses attract more students.\n",
    "- Higher level courses have slightly lower ratings than beginner courses.\n"
   ]
  },
  {
   "cell_type": "markdown",
   "metadata": {},
   "source": [
    "# Recommendation\n",
    "\n",
    "- Add more courses with professional certificates as they have higher enrollment\n",
    "- Create more higher level courses\n",
    "- Encourage highly rated organizations to create more courses\n",
    "- Increase availability of hot topics"
   ]
  }
 ],
 "metadata": {
  "kernelspec": {
   "display_name": "base",
   "language": "python",
   "name": "python3"
  },
  "language_info": {
   "codemirror_mode": {
    "name": "ipython",
    "version": 3
   },
   "file_extension": ".py",
   "mimetype": "text/x-python",
   "name": "python",
   "nbconvert_exporter": "python",
   "pygments_lexer": "ipython3",
   "version": "3.12.4"
  }
 },
 "nbformat": 4,
 "nbformat_minor": 2
}
